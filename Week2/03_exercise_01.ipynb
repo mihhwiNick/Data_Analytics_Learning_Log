{
  "nbformat": 4,
  "nbformat_minor": 0,
  "metadata": {
    "colab": {
      "provenance": []
    },
    "kernelspec": {
      "name": "python3",
      "display_name": "Python 3"
    },
    "language_info": {
      "name": "python"
    }
  },
  "cells": [
    {
      "cell_type": "markdown",
      "source": [
        "# Cơ bản về ngôn ngữ lập trình Python\n",
        "\n",
        "**Cách gõ trong ô Markdown**\n",
        "\n",
        "Online Latex Equation: https://latex.codecogs.com/eqneditor/editor.php <br/>\n",
        "Online Table Markdown: https://www.tablesgenerator.com/ <br/>\n",
        "Jupyter Markdown Cheatsheet: https://tinyurl.com/2fuw833c\n",
        "\n",
        "\n",
        "**Tham khảo code Python**\n",
        "\n",
        "Python Tutorial: https://www.w3schools.com/python/default.asp"
      ],
      "metadata": {
        "id": "huFKz9E1Iuq7"
      }
    },
    {
      "cell_type": "markdown",
      "source": [
        "## 1. Nhập/xuất, biểu thức tính toán\n",
        "### Bài 1. Tính giá trị hàm số\n",
        "**Yêu cầu**: Hãy viết chương trình nhập vào số thực x và tính giá trị biểu thức:\n",
        "$$\n",
        "    f\\left(x\\right) = x + \\frac{x^5}{5!} + \\frac{\\sqrt{|x|}}{x^{3/2}}\n",
        "$$\n",
        "> Moi ban nhap vao gia tri cua bien so x: **2.3** <br/>\n",
        "> Gia tri cua ham so f(**2.3**) = **3.27**."
      ],
      "metadata": {
        "id": "poAozYg8I18Z"
      }
    },
    {
      "cell_type": "code",
      "source": [
        "# Khai báo thư viện\n",
        "import math\n",
        "\n",
        "# Nhập dữ liệu\n",
        "x = float(input('Moi ban nhap vao gia tri cua bien so x: '))\n",
        "\n",
        "# Xử lý\n",
        "fx = x**2 + 3  # ví dụ hàm f(x) = x^2 + 3\n",
        "\n",
        "# Xuất dữ liệu\n",
        "print(f'Gia tri cua ham so f({x}) = {fx: .2f}.')"
      ],
      "metadata": {
        "colab": {
          "base_uri": "https://localhost:8080/"
        },
        "id": "NJfVtU8gJMfh",
        "outputId": "f6ec1be5-9616-4180-9324-1cac26f1cc7e"
      },
      "execution_count": 8,
      "outputs": [
        {
          "output_type": "stream",
          "name": "stdout",
          "text": [
            "Moi ban nhap vao gia tri cua bien so x: 2.3\n",
            "Gia tri cua ham so f(2.3) =  8.29.\n"
          ]
        }
      ]
    },
    {
      "cell_type": "markdown",
      "source": [
        "### Bài 2. Đổi sang giờ phút giây\n",
        "Một thiết bị hoạt động được t giây. Hãy viết chương trình chuyển số giây đó dưới dạng số giờ, số phút và số giây.\n",
        ">Nhap vao tong so giay: **4810** <br/>\n",
        ">**4810** giay co dang **1:20:10**"
      ],
      "metadata": {
        "id": "aQuDNKTLJ2mM"
      }
    },
    {
      "cell_type": "code",
      "source": [
        "# Nhập dữ liệu\n",
        "t = int(input('Nhap vao tong so giay: '))\n",
        "\n",
        "# Xử lý\n",
        "hh = t // 3600\n",
        "mm = (t % 3600) // 60\n",
        "ss = t % 60\n",
        "\n",
        "# Xuất dữ liệu\n",
        "print(f'{t} giay co dang {hh}:{mm}:{ss}')\n"
      ],
      "metadata": {
        "colab": {
          "base_uri": "https://localhost:8080/"
        },
        "id": "q6JR1fhZJ3za",
        "outputId": "46661f2b-272e-42bf-d2f8-8e409201ea80"
      },
      "execution_count": 10,
      "outputs": [
        {
          "output_type": "stream",
          "name": "stdout",
          "text": [
            "Nhap vao tong so giay: 4810\n",
            "4810 giay co dang 1:20:10\n"
          ]
        }
      ]
    },
    {
      "cell_type": "markdown",
      "source": [
        "## 2. Cấu trúc lựa chọn"
      ],
      "metadata": {
        "id": "-thc8yHGKPvT"
      }
    },
    {
      "cell_type": "markdown",
      "source": [
        "### Bài 3. Giải phuơng trình bậc 1\n",
        "Nhập 2 số thực $a$, $b$. Tìm nghiệm của phương trình bậc 1 $ax + b = 0$.\n",
        ">Moi ban nhap he so a: **1** <br/>\n",
        ">Moi ban nhap he so b: **5** <br/>\n",
        ">Phuong trinh **1x + 5 = 0** co **1** nghiem x = **-5.00**."
      ],
      "metadata": {
        "id": "Sfa0rtL4KQJS"
      }
    },
    {
      "cell_type": "code",
      "source": [
        "# Nhập dữ liệu\n",
        "a = int(input('Moi ban nhap he so a: '))\n",
        "b = int(input('Moi ban nhap he so b: '))\n",
        "\n",
        "# Xử lý\n",
        "if a == 0:\n",
        "    if b == 0:\n",
        "        flag = -1   # vô số nghiệm\n",
        "    else:\n",
        "        flag = 0    # vô nghiệm\n",
        "else:\n",
        "    flag = 1        # 1 nghiệm\n",
        "    x = -b / a\n",
        "\n",
        "# Xuất dữ liệu\n",
        "s = f'Phuong trinh {a}x + {b} = 0'\n",
        "if flag == -1:\n",
        "    print(f'{s} vo so nghiem.')\n",
        "elif flag == 0:\n",
        "    print(f'{s} vo nghiem.')\n",
        "else:\n",
        "    print(f'{s} co 1 nghiem x = {x: .2f}.')\n"
      ],
      "metadata": {
        "colab": {
          "base_uri": "https://localhost:8080/"
        },
        "id": "epOEWq41KRai",
        "outputId": "24c78d0b-5e0b-46eb-c8a1-560a53c0ff71"
      },
      "execution_count": 11,
      "outputs": [
        {
          "output_type": "stream",
          "name": "stdout",
          "text": [
            "Moi ban nhap he so a: 1\n",
            "Moi ban nhap he so b: 5\n",
            "Phuong trinh 1x + 5 = 0 co 1 nghiem x = -5.00.\n"
          ]
        }
      ]
    },
    {
      "cell_type": "markdown",
      "source": [
        "### Bài 4. Chuyển ký số sang số\n",
        "Nhập một chuỗi s là chuỗi biểu diễn ký tự số trong tiếng Anh gồm {zero, one, two, three, four, five, six, seven, eight, nine}. Hãy kiểm tra chuỗi nhập có hợp lệ không? Nếu hợp lệ thì in ra ký số của chuỗi đó và chuỗi ký số bên tiếng việt tương ứng.\n",
        "> Moi ban nhap chuoi ky so s: One <br/>\n",
        "> Chuoi vua nhap hop le!\n",
        "> \"One\" bieu dien so cho \"1\" va ung voi tieng Viet \"mot\".\n",
        "\n",
        "> Moi ban nhap chuoi ky so s: hello <br/>\n",
        "> Chuoi vua nhap khong hop le!"
      ],
      "metadata": {
        "id": "wYgGaPXPKYWS"
      }
    },
    {
      "cell_type": "code",
      "source": [
        "# Nhập chuỗi\n",
        "s = input(\"Moi ban nhap chuoi ky so s: \").strip().lower()  # chuyển về chữ thường\n",
        "\n",
        "# Danh sách chữ số bằng chữ tiếng Anh\n",
        "en  = [\"zero\", \"one\", \"two\", \"three\", \"four\", \"five\", \"six\", \"seven\", \"eight\", \"nine\"]\n",
        "vi  = [\"khong\", \"mot\", \"hai\", \"ba\", \"bon\", \"nam\", \"sau\", \"bay\", \"tam\", \"chin\"]\n",
        "\n",
        "# Kiểm tra xem chuỗi hợp lệ\n",
        "if s in en:\n",
        "    idx = en.index(s)\n",
        "    print(\"Chuoi vua nhap hop le!\")\n",
        "    print(f'\"{s}\" bieu dien cho \"{idx}\" va ung voi tieng Viet \"{vi[idx]}\"')\n",
        "else:\n",
        "    print(\"Chuoi vua nhap khong hop le!\")\n"
      ],
      "metadata": {
        "colab": {
          "base_uri": "https://localhost:8080/"
        },
        "id": "4reWmoy6KYtB",
        "outputId": "b9c2aa92-20be-4724-e471-b14be5bdbcf6"
      },
      "execution_count": 13,
      "outputs": [
        {
          "output_type": "stream",
          "name": "stdout",
          "text": [
            "Moi ban nhap chuoi ky so s: oNe\n",
            "Chuoi vua nhap hop le!\n",
            "\"one\" bieu dien cho \"1\" va ung voi tieng Viet \"mot\"\n"
          ]
        }
      ]
    },
    {
      "cell_type": "markdown",
      "source": [
        "## 3. Cấu trúc lặp"
      ],
      "metadata": {
        "id": "-OBaSj3TKyuq"
      }
    },
    {
      "cell_type": "markdown",
      "source": [
        "### Bài 5. Tính tổng các số chẵn\n",
        "Nhập một số nguyên n. Hãy tính tổng các số chẵn từ 1 đến n.\n",
        "> Moi ban nhap so nguyen n: **100** <br>\n",
        "> Tong cac so chan tu 1 den **100** la **2550**."
      ],
      "metadata": {
        "id": "ebpHdVPuKzWa"
      }
    },
    {
      "cell_type": "code",
      "source": [
        "# Nhập dữ liệu\n",
        "n = int(input(\"Moi ban nhap so nguyen n: \"))\n",
        "\n",
        "# Xử lý\n",
        "s = 0\n",
        "for i in range(1, n+1):\n",
        "    if i % 2 == 0:\n",
        "        s += i\n",
        "\n",
        "# Xuất dữ liệu\n",
        "print(f'Tong cac so chan tu 1 den {n} la {s}.')\n"
      ],
      "metadata": {
        "colab": {
          "base_uri": "https://localhost:8080/"
        },
        "id": "KNRjfi-7K0Zz",
        "outputId": "418d01cf-e7fe-4170-e97f-750a461791c3"
      },
      "execution_count": 14,
      "outputs": [
        {
          "output_type": "stream",
          "name": "stdout",
          "text": [
            "Moi ban nhap so nguyen n: 100\n",
            "Tong cac so chan tu 1 den 100 la 2550.\n"
          ]
        }
      ]
    },
    {
      "cell_type": "markdown",
      "source": [
        "### Bài 6. Kiểm tra số nguyên tố\n",
        "\n",
        "Nhập vào một số nguyên dương n. Hãy kiểm tra xem n có phải là nguyên tố không?\n",
        "> Moi nhap nhap so nguyen n: **10** <br/>\n",
        "> **10** khong phai la so nguyen to.\n",
        "\n",
        "> Moi nhap nhap so nguyen n: **97** <br/>\n",
        "> **97** la so nguyen to.\n",
        "\n",
        "**Lưu ý**: n là số nguyên tố khi và chỉ khi không tồn tại số nguyên từ $2$ đến $\\sqrt(n)$ mà chia hết cho n."
      ],
      "metadata": {
        "id": "W8XQQbA7K5yz"
      }
    },
    {
      "cell_type": "code",
      "source": [
        "# Nhập dữ liệu\n",
        "n = int(input(\"Moi ban nhap so nguyen n: \"))\n",
        "\n",
        "# Xử lý\n",
        "lant = True  # giả sử n là số nguyên tố\n",
        "if n < 2:\n",
        "    lant = False\n",
        "else:\n",
        "    for i in range(2, int(n**0.5) + 1):\n",
        "        if n % i == 0:\n",
        "            lant = False\n",
        "            break\n",
        "\n",
        "# Xuất dữ liệu\n",
        "if lant == True:\n",
        "    print(f'{n} la so nguyen to.')\n",
        "else:\n",
        "    print(f'{n} khong la so nguyen to.')\n"
      ],
      "metadata": {
        "colab": {
          "base_uri": "https://localhost:8080/"
        },
        "id": "wicflDA_K6Vq",
        "outputId": "b470fd06-3c20-4cde-d9b1-84055a0c15a2"
      },
      "execution_count": 15,
      "outputs": [
        {
          "output_type": "stream",
          "name": "stdout",
          "text": [
            "Moi ban nhap so nguyen n: 97\n",
            "97 la so nguyen to.\n"
          ]
        }
      ]
    },
    {
      "cell_type": "markdown",
      "source": [
        "## 4. Xử lý ngoại lệ và hàm số"
      ],
      "metadata": {
        "id": "9OJdwaBpLAdb"
      }
    },
    {
      "cell_type": "markdown",
      "source": [
        "### Bài 7. Giải phương trình bậc 2\n",
        "Nhập 3 số thực a, b, c (có kiểm tra dữ liệu nhập số thực). Hãy xây dựng hàm giải phương trình bậc 2 $ax^2+bx+c=0$ và in kết quả giải ra màn hình.\n",
        "> Moi ban nhap he so a, b, c:  **a b c**<br/>\n",
        "> Ban nhap sai! Moi ban nhap lai!<br/>\n",
        "> Moi ban nhap he so a, b, c:  **1 a 3**<br/>\n",
        "> Ban nhap sai! Moi ban nhap lai!<br/>\n",
        "> Moi ban nhap he so a, b, c: **1 5 6**<br/>\n",
        "> Phuong trinh bac 2 **1x^2 + 5x + 6 = 0** co **2**  nghiem x1 = **-2.00**, x2 = **-3.00**."
      ],
      "metadata": {
        "id": "3H17L8J2LB65"
      }
    },
    {
      "cell_type": "code",
      "source": [
        "def NhapDuLieu():\n",
        "    \"\"\"\n",
        "    Nhập 3 số nguyên từ bàn phím.\n",
        "    Nếu nhập sai, yêu cầu nhập lại.\n",
        "    Output:\n",
        "        (a, b, c) --> tuple 3 số nguyên\n",
        "    \"\"\"\n",
        "    while True:\n",
        "        data = input(\"Moi ban nhap he so a, b, c: \").split()\n",
        "        if len(data) != 3:\n",
        "            print(\"Vui long nhap dung 3 so, cach nhau boi dau cach!\")\n",
        "            continue\n",
        "        try:\n",
        "            a, b, c = map(int, data)\n",
        "            return a, b, c\n",
        "        except ValueError:\n",
        "            print(\"Vui long chi nhap so nguyen!\")\n",
        "\n",
        "# Kiểm tra hàm\n",
        "a, b, c = NhapDuLieu()\n"
      ],
      "metadata": {
        "colab": {
          "base_uri": "https://localhost:8080/"
        },
        "id": "wNRFnh4uLCUq",
        "outputId": "242770e3-0319-4a20-e76e-927bbe79aec5"
      },
      "execution_count": 17,
      "outputs": [
        {
          "name": "stdout",
          "output_type": "stream",
          "text": [
            "Moi ban nhap he so a, b, c: a b c\n",
            "Vui long chi nhap so nguyen!\n",
            "Moi ban nhap he so a, b, c: 1 a 3\n",
            "Vui long chi nhap so nguyen!\n",
            "Moi ban nhap he so a, b, c: 1 5 6\n"
          ]
        }
      ]
    },
    {
      "cell_type": "code",
      "source": [
        "def GiaiPhuongTrinhBac2(a, b, c):\n",
        "    \"\"\"\n",
        "    Input: a, b, c\n",
        "    Output:\n",
        "    + flag = -1 (VSN), 0 (VN), k (k nghiem)\n",
        "    + () --> flag = -1, 0\n",
        "    + (x,) --> flag = 1\n",
        "    + (x1, x2) --> flag = 2\n",
        "    \"\"\"\n",
        "    import math\n",
        "    flag = None\n",
        "    x = ()\n",
        "\n",
        "    if a == 0:\n",
        "        # Phương trình bậc nhất\n",
        "        if b == 0:\n",
        "            if c == 0:\n",
        "                flag = -1  # vô số nghiệm\n",
        "                x = ()\n",
        "            else:\n",
        "                flag = 0   # vô nghiệm\n",
        "                x = ()\n",
        "        else:\n",
        "            flag = 1\n",
        "            x = (-c / b,)\n",
        "    else:\n",
        "        # Phương trình bậc hai\n",
        "        delta = b**2 - 4*a*c\n",
        "        if delta < 0:\n",
        "            flag = 0\n",
        "            x = ()\n",
        "        elif delta == 0:\n",
        "            flag = 1\n",
        "            x = (-b / (2*a),)\n",
        "        else:\n",
        "            flag = 2\n",
        "            x1 = (-b + math.sqrt(delta)) / (2*a)\n",
        "            x2 = (-b - math.sqrt(delta)) / (2*a)\n",
        "            x = (x1, x2)\n",
        "\n",
        "    return flag, x\n",
        "\n",
        "print(\"a = 0\")\n",
        "flag, x = GiaiPhuongTrinhBac2(0, 0, 0)\n",
        "print(f'So nghiem: {flag}, nghiem = {x}')\n",
        "flag, x = GiaiPhuongTrinhBac2(0, 0, 5)\n",
        "print(f'So nghiem: {flag}, nghiem = {x}')\n",
        "flag, x = GiaiPhuongTrinhBac2(0, 5, 6)\n",
        "print(f'So nghiem: {flag}, nghiem = {x}')\n",
        "\n",
        "print(\"a <> 0\")\n",
        "flag, x = GiaiPhuongTrinhBac2(5, 1, 2)\n",
        "print(f'So nghiem: {flag}, nghiem = {x}')\n",
        "flag, x = GiaiPhuongTrinhBac2(1, 2, 1)\n",
        "print(f'So nghiem: {flag}, nghiem = {x}')\n",
        "flag, x = GiaiPhuongTrinhBac2(1, 5, 6)\n",
        "print(f'So nghiem: {flag}, nghiem = {x}')\n"
      ],
      "metadata": {
        "colab": {
          "base_uri": "https://localhost:8080/"
        },
        "id": "vM3JzHM9LcJ7",
        "outputId": "1edae65e-5c9e-4c5c-9b94-a3ccaa9d3cc8"
      },
      "execution_count": 18,
      "outputs": [
        {
          "output_type": "stream",
          "name": "stdout",
          "text": [
            "a = 0\n",
            "So nghiem: -1, nghiem = ()\n",
            "So nghiem: 0, nghiem = ()\n",
            "So nghiem: 1, nghiem = (-1.2,)\n",
            "a <> 0\n",
            "So nghiem: 0, nghiem = ()\n",
            "So nghiem: 1, nghiem = (-1.0,)\n",
            "So nghiem: 2, nghiem = (-2.0, -3.0)\n"
          ]
        }
      ]
    },
    {
      "cell_type": "code",
      "source": [
        "# Kết nối bài\n",
        "a, b, c = NhapDuLieu()\n",
        "# Gọi hàm giải\n",
        "flag, x = GiaiPhuongTrinhBac2(1, 5, 6)\n",
        "# Xuất dữ liệu\n",
        "s = f'Phuong trinh bac 2 {a}x^2 + {b}x + {c} = 0'\n",
        "if flag == -1:\n",
        "    print(f'{s} co vo so nghiem!')\n",
        "elif flag == 0:\n",
        "    print(f'{s} vo nghiem!')\n",
        "elif flag == 1:\n",
        "    print(f'{s} co 1 nghiem, x = {x[0]}!')\n",
        "elif flag == 2:\n",
        "    print(f'{s} co 2 nghiem, x1 = {x[0]}, x2 = {x[1]}!')\n",
        "# if"
      ],
      "metadata": {
        "colab": {
          "base_uri": "https://localhost:8080/"
        },
        "id": "ZOAO9lVVLq4f",
        "outputId": "178097ac-917b-49f9-e78b-b83f1618eddd"
      },
      "execution_count": 19,
      "outputs": [
        {
          "output_type": "stream",
          "name": "stdout",
          "text": [
            "Moi ban nhap he so a, b, c: 1 5 6\n",
            "Phuong trinh bac 2 1x^2 + 5x + 6 = 0 co 2 nghiem, x1 = -2.0, x2 = -3.0!\n"
          ]
        }
      ]
    },
    {
      "cell_type": "markdown",
      "source": [
        "## 5. Dữ liệu nâng cao (List, Tuple, Set, Dictionary)"
      ],
      "metadata": {
        "id": "dHWyk8PCLxnx"
      }
    },
    {
      "cell_type": "markdown",
      "source": [
        "### Bài 8. Các thao tác xử lý mảng số\n",
        "\n",
        "Viết chương trình xây dựng các hàm sau cho List và kiểm tra tính đúng đắn của các hàm số:\n",
        "+ Nhập một mảng số từ bàn phím cách nhau bởi khoảng trắng. Xuất mảng ra màn hình. <br/>\n",
        "+ Sinh một mảng số ngẫu nhiên có n phần tử trong khoảng a, b.\n",
        "+ Tính tổng của mảng số, đếm các phần tử chẵn, lẻ trong mảng.\n",
        "+ Cho một mảng số, hãy trả về dãy chẳn, dãy lẻ.\n",
        "\n",
        "> a = NhapMang() <br/>\n",
        "> XuatMang(a) <br/>\n",
        "> b = SinhNgauNhien(10, -10, 10) <br/>\n",
        "> XuatMang(b) <br/>\n",
        "> tong, chan, le = TinhTongChanLe(b) <br/>\n",
        "> a_chan, a_le = TimChanLe(b) <br/>"
      ],
      "metadata": {
        "id": "ZDN34niXLyC7"
      }
    },
    {
      "cell_type": "code",
      "source": [
        "def NhapMang():\n",
        "    \"\"\"\n",
        "    Input:\n",
        "        Ban phim = 1 4 1 2 3 4 1 2 3 3 1 2 3 4 10 2\n",
        "    Output:\n",
        "        a = [1, 4, 1, 2, 3, 4, 1, 2, 3, 3, 1, 2, 3, 4, 10, 2]\n",
        "    \"\"\"\n",
        "    data = input(\"Nhap mang, cach nhau boi dau cach: \").split()\n",
        "    # Chuyển từng phần tử sang số nguyên\n",
        "    a = list(map(int, data))\n",
        "    return a\n",
        "\n",
        "a = NhapMang() # 1 4 1 2 3 4 1 2 3 3 1 2 3 4 10 2\n",
        "print(a)\n"
      ],
      "metadata": {
        "colab": {
          "base_uri": "https://localhost:8080/"
        },
        "id": "D1ztVqttLy_q",
        "outputId": "0735d4d2-e419-48c4-94ae-3496ed417126"
      },
      "execution_count": 21,
      "outputs": [
        {
          "output_type": "stream",
          "name": "stdout",
          "text": [
            "Nhap mang, cach nhau boi dau cach: 1 4 1 2 3 4 1 2 3 3 1 2 3 4 10 2\n",
            "[1, 4, 1, 2, 3, 4, 1, 2, 3, 3, 1, 2, 3, 4, 10, 2]\n"
          ]
        }
      ]
    },
    {
      "cell_type": "code",
      "source": [
        "def XuatMang(a):\n",
        "    \"\"\"\n",
        "    Input:\n",
        "        a = [1, 4, 1, 2, 3, 4, 1, 2, 3, 3, 1, 2, 3, 4, 10, 2]\n",
        "    Output:\n",
        "        In ra man hinh:\n",
        "            Mang co 16 phan tu: 1 4 1 2 3 4 1 2 3 3 1 2 3 4 10 2\n",
        "    \"\"\"\n",
        "    n = len(a)\n",
        "    print(f'Mang co {n} phan tu:', end=' ')\n",
        "    for x in a:\n",
        "        print(x, end=' ')\n",
        "    print()  # xuống dòng\n",
        "\n",
        "a = [1, 4, 1, 2, 3, 4, 1, 2, 3, 3, 1, 2, 3, 4, 10, 2]\n",
        "XuatMang(a)\n"
      ],
      "metadata": {
        "colab": {
          "base_uri": "https://localhost:8080/"
        },
        "id": "XFGjDXE0MBch",
        "outputId": "b3dd466a-a7db-4b68-d2a5-db47b2f2c298"
      },
      "execution_count": 22,
      "outputs": [
        {
          "output_type": "stream",
          "name": "stdout",
          "text": [
            "Mang co 16 phan tu: 1 4 1 2 3 4 1 2 3 3 1 2 3 4 10 2 \n"
          ]
        }
      ]
    },
    {
      "cell_type": "code",
      "source": [
        "import random\n",
        "\n",
        "def SinhNgauNhien(n, vmin=-10, vmax=10):\n",
        "    \"\"\"\n",
        "    Input:\n",
        "        n = 30, vmin = -10, vmax = 10\n",
        "    Output:\n",
        "        a = [-1, -4, -8, 6, 4, -5, -1, -4, -9, -5, -10, 0, -6, 2, 1, -9, -9, 10, -8, -9, -7, 9, 2, -4, -1, -6, 5, -6, 9, -8]\n",
        "    \"\"\"\n",
        "    a = [random.randint(vmin, vmax) for _ in range(n)]\n",
        "    return a\n",
        "\n",
        "b = SinhNgauNhien(30, -10, 10)\n",
        "print(b)\n",
        "b = SinhNgauNhien(30, vmin = 0)\n",
        "print(b)\n",
        "b = SinhNgauNhien(30, vmax = 2)\n",
        "print(b)\n"
      ],
      "metadata": {
        "colab": {
          "base_uri": "https://localhost:8080/"
        },
        "id": "n_PeKysgMGg7",
        "outputId": "6840bf02-ce7e-4e4f-b217-0471c46522f0"
      },
      "execution_count": 23,
      "outputs": [
        {
          "output_type": "stream",
          "name": "stdout",
          "text": [
            "[7, -2, -2, -7, -8, 5, 3, 1, -4, 9, 2, -2, -3, -1, -10, -4, -3, -8, 2, 8, 4, 5, -4, 5, 4, 7, -8, -2, 1, -7]\n",
            "[1, 3, 3, 1, 2, 5, 8, 3, 10, 10, 10, 10, 5, 4, 8, 5, 6, 5, 1, 7, 7, 4, 10, 9, 9, 4, 6, 10, 8, 6]\n",
            "[-5, -5, 0, -6, -4, 2, -5, -4, 0, -9, -8, -2, -9, 2, 1, -1, -10, -6, 0, -5, -9, -8, -9, -4, -6, -3, 1, -4, 1, -2]\n"
          ]
        }
      ]
    },
    {
      "cell_type": "code",
      "source": [
        "def DemTongChanLe(a):\n",
        "    \"\"\"\n",
        "    Input: a[] = [1, 4, 2, 0, -1, -7, 3, -6, 4, 9, -5, 7, 7, -7, -10, 1, -10, 9, -4, -6, 10, -2, -10, -8, -3, 2, -7, -10, 6, 0]\n",
        "    Output: tong, sochan, sole\n",
        "    \"\"\"\n",
        "    tong = 0\n",
        "    sochan = 0\n",
        "    sole = 0\n",
        "\n",
        "    for x in a:\n",
        "        tong += x\n",
        "        if x % 2 == 0:\n",
        "            sochan += 1\n",
        "        else:\n",
        "            sole += 1\n",
        "\n",
        "    return tong, sochan, sole\n",
        "\n",
        "a = [1, 4, 2, 0, -1, -7, 3, -6, 4, 9, -5, 7, 7, -7, -10, 1, -10, 9, -4, -6, 10, -2, -10, -8, -3, 2, -7, -10, 6, 0]\n",
        "print(DemTongChanLe(a))\n",
        "a = [9, 6, 5, 0, 8, 8, 1, 10, 0, 0, 1, 1, 2, 7, 1, 10, 9, 1, 10, 8, 2, 8, 4, 5, 4, 5, 5, 3, 6, 2]\n",
        "print(DemTongChanLe(a))\n"
      ],
      "metadata": {
        "colab": {
          "base_uri": "https://localhost:8080/"
        },
        "id": "F32bmHiIMKxr",
        "outputId": "1a30cf38-1f41-4fd4-cfec-6fc0ac8fc757"
      },
      "execution_count": 24,
      "outputs": [
        {
          "output_type": "stream",
          "name": "stdout",
          "text": [
            "(-31, 17, 13)\n",
            "(141, 17, 13)\n"
          ]
        }
      ]
    },
    {
      "cell_type": "code",
      "source": [
        "def DayChanLe(a):\n",
        "    \"\"\"\n",
        "    Input:\n",
        "        a = [1, 4, 2, 0, -1, -7, 3, -6, 4, 9, -5, 7, 7, -7, -10, 1, -10, 9, -4, -6, 10, -2, -10, -8, -3, 2, -7, -10, 6, 0]\n",
        "    Output: (achan, ale)\n",
        "        achan = [4, 2, 0, -6, 4, -10, -10, -4, -6, 10, -2, -10, -8, 2, -10, 6, 0]\n",
        "        ale = [1, -1, -7, 3, 9, -5, 7, 7, -7, 1, 9, -3, -7]\n",
        "    \"\"\"\n",
        "    achan = []\n",
        "    ale = []\n",
        "\n",
        "    for x in a:\n",
        "        if x % 2 == 0:\n",
        "            achan.append(x)\n",
        "        else:\n",
        "            ale.append(x)\n",
        "\n",
        "    return achan, ale\n",
        "\n",
        "a = [1, 4, 2, 0, -1, -7, 3, -6, 4, 9, -5, 7, 7, -7, -10, 1, -10, 9, -4, -6, 10, -2, -10, -8, -3, 2, -7, -10, 6, 0]\n",
        "achan, ale = DayChanLe(a)\n",
        "print(f'DayChanLe:\\nChan = {achan}\\nLe = {ale}\\n')\n"
      ],
      "metadata": {
        "colab": {
          "base_uri": "https://localhost:8080/"
        },
        "id": "jkkXp7H0MQOK",
        "outputId": "2d48f6ae-34ec-4e63-c6a3-0c000a8bfb28"
      },
      "execution_count": 25,
      "outputs": [
        {
          "output_type": "stream",
          "name": "stdout",
          "text": [
            "DayChanLe:\n",
            "Chan = [4, 2, 0, -6, 4, -10, -10, -4, -6, 10, -2, -10, -8, 2, -10, 6, 0]\n",
            "Le = [1, -1, -7, 3, 9, -5, 7, 7, -7, 1, 9, -3, -7]\n",
            "\n"
          ]
        }
      ]
    },
    {
      "cell_type": "markdown",
      "source": [
        "### Bài 9. Các thao tác trên tập hợp, từ điển\n",
        "\n",
        "Viết chương trình nhập vào một dãy ký tự a cách nhau bởi khoảng trắng. Hãy thực hiện:\n",
        "+ In các ký tự trong a không trùng nhau và được sắp theo thứ tự tăng dần\n",
        "+ Đếm số lần xuất hiện các ký tự trong dãy a\n"
      ],
      "metadata": {
        "id": "Z9z12mPqMTU0"
      }
    },
    {
      "cell_type": "code",
      "source": [
        "def XuLyKhongTrung(a):\n",
        "    \"\"\"\n",
        "    Input:\n",
        "        a = ['A', 'G', 'C', 'A', 'C', 'F', 'F', 'T', 'H']\n",
        "    Output:\n",
        "        s = ['A', 'C', 'F', 'G', 'H', 'T']\n",
        "    \"\"\"\n",
        "    # Chuyển danh sách a thành set để loại bỏ trùng lặp\n",
        "    s = set(a)\n",
        "\n",
        "    # Trả về danh sách đã sắp xếp\n",
        "    return sorted(s)\n",
        "\n",
        "a = ['A', 'G', 'C', 'A', 'C', 'F', 'F', 'T', 'H']\n",
        "b = XuLyKhongTrung(a)\n",
        "print(b)"
      ],
      "metadata": {
        "colab": {
          "base_uri": "https://localhost:8080/"
        },
        "id": "5KDoOflgMTtT",
        "outputId": "892ae25d-e56d-480c-bdd6-05ac3e3a2c6c"
      },
      "execution_count": 26,
      "outputs": [
        {
          "output_type": "stream",
          "name": "stdout",
          "text": [
            "['A', 'C', 'F', 'G', 'H', 'T']\n"
          ]
        }
      ]
    },
    {
      "cell_type": "code",
      "source": [
        "def DemSoLanXuatHien(a):\n",
        "    \"\"\"\n",
        "    Input:\n",
        "        a = ['A', 'G', 'C', 'A', 'C', 'F', 'F', 'T', 'H']\n",
        "    Output:\n",
        "        dem = {'A': 2, 'G': 1, 'C': 2, 'F': 2, 'T': 1, 'H': 1}\n",
        "    \"\"\"\n",
        "    dem = {}  # (k, v): k (ky tu) v (so lan xuat hien)\n",
        "\n",
        "    for x in a:\n",
        "        if x in dem:\n",
        "            dem[x] += 1\n",
        "        else:\n",
        "            dem[x] = 1\n",
        "\n",
        "    return dem\n",
        "\n",
        "a = ['A', 'G', 'C', 'A', 'C', 'F', 'F', 'T', 'H']\n",
        "b = DemSoLanXuatHien(a)\n",
        "print(b)"
      ],
      "metadata": {
        "colab": {
          "base_uri": "https://localhost:8080/"
        },
        "id": "Ur2ARHlWMcW7",
        "outputId": "1d42796d-e0e9-4330-87f1-2ccf232d6790"
      },
      "execution_count": 27,
      "outputs": [
        {
          "output_type": "stream",
          "name": "stdout",
          "text": [
            "{'A': 2, 'G': 1, 'C': 2, 'F': 2, 'T': 1, 'H': 1}\n"
          ]
        }
      ]
    },
    {
      "cell_type": "markdown",
      "source": [
        "# Kết thúc"
      ],
      "metadata": {
        "id": "db1pUOKDMfnk"
      }
    }
  ]
}