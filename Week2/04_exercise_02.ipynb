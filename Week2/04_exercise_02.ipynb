{
  "nbformat": 4,
  "nbformat_minor": 0,
  "metadata": {
    "colab": {
      "provenance": [],
      "toc_visible": true
    },
    "kernelspec": {
      "name": "python3",
      "display_name": "Python 3"
    },
    "language_info": {
      "name": "python"
    }
  },
  "cells": [
    {
      "cell_type": "markdown",
      "source": [
        "# Kỹ thuật lập trình Python"
      ],
      "metadata": {
        "id": "DLDnFVSkM66T"
      }
    },
    {
      "cell_type": "markdown",
      "source": [
        "## Làm quen với Numpy"
      ],
      "metadata": {
        "id": "y-SPzolIM7zi"
      }
    },
    {
      "cell_type": "markdown",
      "source": [
        "### Bài 1. Tính toán trên dãy số"
      ],
      "metadata": {
        "id": "pxNOOlo-M9UC"
      }
    },
    {
      "cell_type": "markdown",
      "source": [
        "#### 1. Tạo một dãy số a có N phần tử (N = 10)"
      ],
      "metadata": {
        "id": "REL1s08VM-Xp"
      }
    },
    {
      "cell_type": "code",
      "source": [
        "import numpy as np  # Khai báo thư viện numpy\n",
        "\n",
        "print(\"1. Tạo một dãy số a có N phần tử (N = 10)\")\n",
        "\n",
        "# Tạo trực tiếp mảng a\n",
        "a = np.array([120, 183, 160, 175, 145, 162, 190, 160, 152, 162])\n",
        "\n",
        "print(\"Day so a: \", a)"
      ],
      "metadata": {
        "colab": {
          "base_uri": "https://localhost:8080/"
        },
        "id": "6GJX6L5FM_VK",
        "outputId": "e75b5e0b-f26d-416a-bbc2-3c05a0913101"
      },
      "execution_count": 2,
      "outputs": [
        {
          "output_type": "stream",
          "name": "stdout",
          "text": [
            "1. Tạo một dãy số a có N phần tử (N = 10)\n",
            "Day so a:  [120 183 160 175 145 162 190 160 152 162]\n"
          ]
        }
      ]
    },
    {
      "cell_type": "markdown",
      "source": [
        "#### 2. Các thao tác trên dãy số a\n",
        "(a) Bình phương các phần tử trong dãy số <br/>\n",
        "(b) Tìm số lượng các phần tử của dãy số <br/>\n",
        "(c) In ra giá trị lớn nhất, giá trị nhỏ nhất và giá trị trung bình <br/>\n",
        "(d) Tính phương sai của dãy số $\\sigma^2 = \\frac{\\sum{\\left(a_i - \\mu\\right)^2}}{N - 1}$ với $\\mu = \\frac{\\sum{a_i}}{N}$ và độ lệch chuẩn $var = \\sqrt{\\sigma^2}$"
      ],
      "metadata": {
        "id": "7kx_kesONODy"
      }
    },
    {
      "cell_type": "code",
      "source": [
        "import numpy as np\n",
        "\n",
        "# Mảng a\n",
        "a = np.array([120, 183, 160, 175, 145, 162, 190, 160, 152, 162])\n",
        "\n",
        "print(\"2. Các thao tác tính toán đơn giản với dãy số a\")\n",
        "\n",
        "# a. Bình phương từng phần tử\n",
        "a2 = a**2\n",
        "# b. Độ dài mảng\n",
        "na = len(a)\n",
        "\n",
        "print(\"a. Binh phuong a: \", a2)\n",
        "print(\"\\nb. Do dai a: \", na)\n",
        "\n",
        "# c. Giá trị lớn nhất, nhỏ nhất, trung bình\n",
        "v_max = np.max(a)\n",
        "v_min = np.min(a)\n",
        "v_avg = np.mean(a)\n",
        "\n",
        "print(f'\\nc. Gia tri lon nhat: [{v_max}], gia tri nho nhat: [{v_min}], gia tri trung binh [{v_avg}]')\n",
        "\n",
        "# d. Phương sai và độ lệch chuẩn\n",
        "v_sigma2 = np.var(a, ddof=0)  # phương sai (population)\n",
        "v_var = np.std(a, ddof=0)     # độ lệch chuẩn (population)\n",
        "\n",
        "print(f'\\nd. Phuong sai: [{v_sigma2: .2f}] va do lech chuan: [{v_var: .2f}]')\n"
      ],
      "metadata": {
        "colab": {
          "base_uri": "https://localhost:8080/"
        },
        "id": "1qmxBVZtNOWD",
        "outputId": "d74d790a-da71-49cf-d761-3a6682010e5b"
      },
      "execution_count": 3,
      "outputs": [
        {
          "output_type": "stream",
          "name": "stdout",
          "text": [
            "2. Các thao tác tính toán đơn giản với dãy số a\n",
            "a. Binh phuong a:  [14400 33489 25600 30625 21025 26244 36100 25600 23104 26244]\n",
            "\n",
            "b. Do dai a:  10\n",
            "\n",
            "c. Gia tri lon nhat: [190], gia tri nho nhat: [120], gia tri trung binh [160.9]\n",
            "\n",
            "d. Phuong sai: [ 354.29] va do lech chuan: [ 18.82]\n"
          ]
        }
      ]
    },
    {
      "cell_type": "markdown",
      "source": [
        "#### 3. Toán tử trên hai dãy số\n",
        "(a) Tạo dãy số x có 10 phần tử từ 1 đến 10 (dùng hàm np.arange) <br/>\n",
        "(b) Liệt kê và đếm số lượng phần tử chẵn và lẻ có trong dãy a và x <br/>\n",
        "(c) Tính khoảng cách giữa các phần tử ở vị trí lẻ của mảng a và x với $s = \\sqrt{\\sum{\\left(a_i - x_i\\right)^2}}$ với $i$ lẻ<br/>\n",
        "(d) Tìm khoảng cách nhỏ nhất giữa tập a và x. Ví dụ: min({1, 3, 5}, {2, 10, 8}} = 1"
      ],
      "metadata": {
        "id": "DbTqa_qRNVa6"
      }
    },
    {
      "cell_type": "code",
      "source": [
        "import numpy as np\n",
        "\n",
        "print(\"3. Xử lý khác trên dãy số\")\n",
        "\n",
        "# Tạo dãy số x từ 1 đến 10\n",
        "x = np.arange(1, 11)  # np.arange(start, stop) tạo từ start đến stop-1\n",
        "\n",
        "print(f'a. Day so x: {x}')"
      ],
      "metadata": {
        "colab": {
          "base_uri": "https://localhost:8080/"
        },
        "id": "sVjjPVv4NV3a",
        "outputId": "da2c1320-46a0-4f90-f29b-60fe95ed2598"
      },
      "execution_count": 4,
      "outputs": [
        {
          "output_type": "stream",
          "name": "stdout",
          "text": [
            "3. Xử lý khác trên dãy số\n",
            "a. Day so x: [ 1  2  3  4  5  6  7  8  9 10]\n"
          ]
        }
      ]
    },
    {
      "cell_type": "code",
      "source": [
        "import numpy as np\n",
        "\n",
        "# Giả sử a và x đã có từ các bước trước\n",
        "a = np.array([120, 183, 160, 175, 145, 162, 190, 160, 152, 162])\n",
        "x = np.arange(1, 11)\n",
        "\n",
        "# Lọc phần tử chẵn\n",
        "a_la_chan = a % 2 == 0\n",
        "a_chan = a[a_la_chan]\n",
        "n_a_chan = len(a_chan)\n",
        "\n",
        "x_la_chan = x % 2 == 0\n",
        "x_chan = x[x_la_chan]\n",
        "n_x_chan = len(x_chan)\n",
        "\n",
        "print(\"b. Cac phan tu chan trong day a, b: \")\n",
        "print(f\"+ Day a: {a}\")\n",
        "print(f\"  - Loc chan: {a_la_chan}\")\n",
        "print(f\"  - Day chua phan tu chan trong a: {a_chan}, so luong {n_a_chan} phan tu.\")\n",
        "print(f\"+ Day x: {x}\")\n",
        "print(f\"  - Loc chan: {x_la_chan}\")\n",
        "print(f\"  - Day chua phan tu chan trong x: {x_chan}, so luong {n_x_chan} phan tu.\")\n"
      ],
      "metadata": {
        "colab": {
          "base_uri": "https://localhost:8080/"
        },
        "id": "23lGZ35gNvTi",
        "outputId": "ab248821-89e2-47b4-c22c-8d806819c415"
      },
      "execution_count": 5,
      "outputs": [
        {
          "output_type": "stream",
          "name": "stdout",
          "text": [
            "b. Cac phan tu chan trong day a, b: \n",
            "+ Day a: [120 183 160 175 145 162 190 160 152 162]\n",
            "  - Loc chan: [ True False  True False False  True  True  True  True  True]\n",
            "  - Day chua phan tu chan trong a: [120 160 162 190 160 152 162], so luong 7 phan tu.\n",
            "+ Day x: [ 1  2  3  4  5  6  7  8  9 10]\n",
            "  - Loc chan: [False  True False  True False  True False  True False  True]\n",
            "  - Day chua phan tu chan trong x: [ 2  4  6  8 10], so luong 5 phan tu.\n"
          ]
        }
      ]
    },
    {
      "cell_type": "code",
      "source": [
        "import numpy as np\n",
        "\n",
        "# Giả sử a và x đã được tạo\n",
        "a = np.array([120, 183, 160, 175, 145, 162, 190, 160, 152, 162])\n",
        "x = np.arange(1, 11)\n",
        "\n",
        "print(\"c.Tính hiệu các phần tử ở vị trí lẻ của mảng a và x:\")\n",
        "\n",
        "# Vị trí lẻ trong Python (index 1,3,5,...) tương ứng với vị trí 2,4,6,...\n",
        "v_le = list(range(1, min(len(a), len(x)), 2))  # chỉ lấy index chung của a và x\n",
        "\n",
        "# Lấy các phần tử ở vị trí lẻ\n",
        "a_le = a[v_le]\n",
        "x_le = x[v_le]\n",
        "\n",
        "# Tính hiệu\n",
        "hieu_le = a_le - x_le\n",
        "\n",
        "# Khoảng cách Euclid\n",
        "kc_le = np.linalg.norm(a_le - x_le)\n",
        "\n",
        "print(f\"+ Vi tri le trong a va x: {v_le}\")\n",
        "print(f\"+ Day so a: {a} va cac so o vi tri le: {a_le}\")\n",
        "print(f\"+ Day so x: {x} va cac so o vi tri le: {x_le}\")\n",
        "print(f\"+ Hieu cua a va x o vi tri le: {hieu_le}\")\n",
        "print(f\"+ Khoang cach cac phan tu cua a va x o vi tri le: {kc_le: .2f}\")\n"
      ],
      "metadata": {
        "colab": {
          "base_uri": "https://localhost:8080/"
        },
        "id": "Fg0MZg73N2_q",
        "outputId": "f8118d46-e88f-44bb-ff2a-6e588db6c35e"
      },
      "execution_count": 6,
      "outputs": [
        {
          "output_type": "stream",
          "name": "stdout",
          "text": [
            "c.Tính hiệu các phần tử ở vị trí lẻ của mảng a và x:\n",
            "+ Vi tri le trong a va x: [1, 3, 5, 7, 9]\n",
            "+ Day so a: [120 183 160 175 145 162 190 160 152 162] va cac so o vi tri le: [183 175 162 160 162]\n",
            "+ Day so x: [ 1  2  3  4  5  6  7  8  9 10] va cac so o vi tri le: [ 2  4  6  8 10]\n",
            "+ Hieu cua a va x o vi tri le: [181 171 156 152 152]\n",
            "+ Khoang cach cac phan tu cua a va x o vi tri le:  364.07\n"
          ]
        }
      ]
    },
    {
      "cell_type": "code",
      "source": [
        "import numpy as np\n",
        "\n",
        "# Mảng a và x\n",
        "a = np.array([120, 183, 160, 175, 145, 162, 190, 160, 152, 162])\n",
        "x = np.arange(1, 11)\n",
        "\n",
        "print(\"d. Tìm khoảng cách nhỏ nhất giữa tập a và x. Ví dụ: min({1,3,5}, {2,10,8}) = 1\")\n",
        "\n",
        "# Tính hiệu giữa tất cả các phần tử của a và x bằng broadcasting\n",
        "diff = np.abs(a[:, np.newaxis] - x)  # a[:, np.newaxis] chuyển a thành cột\n",
        "\n",
        "# Khoảng cách nhỏ nhất\n",
        "v_min = np.min(diff)\n",
        "\n",
        "print(f\"+ Day a: {a}\")\n",
        "print(f\"+ Day x: {x}\")\n",
        "print(f\"+ Khoang cach nho nhat: {v_min}\")"
      ],
      "metadata": {
        "colab": {
          "base_uri": "https://localhost:8080/"
        },
        "id": "Xd3MA4TcN9OK",
        "outputId": "8d1914d1-994e-49e0-a4cb-1ff7d302b6b4"
      },
      "execution_count": 7,
      "outputs": [
        {
          "output_type": "stream",
          "name": "stdout",
          "text": [
            "d. Tìm khoảng cách nhỏ nhất giữa tập a và x. Ví dụ: min({1,3,5}, {2,10,8}) = 1\n",
            "+ Day a: [120 183 160 175 145 162 190 160 152 162]\n",
            "+ Day x: [ 1  2  3  4  5  6  7  8  9 10]\n",
            "+ Khoang cach nho nhat: 110\n"
          ]
        }
      ]
    },
    {
      "cell_type": "markdown",
      "source": [
        "#### 4. Sinh ngẫu nhiên dãy số\n",
        "(a) Sinh ngẫu nhiên dãy số có 100 phần tử theo phân bố đều với giá trị trong đoạn [1, 10] và vẽ đồ thị tần số xuất hiện <br/>\n",
        "(b) Sinh ngẫu nhiên N diem (x, y) với y là hàm phân phối chuẩn $N(\\mu = 1, \\sigma^2 = 1.0)$: <br/>\n",
        " $$\n",
        " y = f\\left(x| \\mu, \\sigma\\right) = \\frac{1}{\\sigma\\sqrt{2\\pi}}exp\\left(-\\frac{\\left(x - \\mu\\right)^2}{2\\sigma^2}\\right)\n",
        " $$\n",
        " nơi mà $x \\in [\\mu - 5\\sigma, \\mu + 5\\sigma]$ <br/>\n",
        " (c) Sinh ngẫu nhiên dãy số có 100000 phần tử theo phân bố chuẩn $N(\\mu = 1, \\sigma^2 = 1.0)$ và vẽ đồ thị tần số xuất hiện <br/> <br/>"
      ],
      "metadata": {
        "id": "Xc9sjMqrN_Lg"
      }
    },
    {
      "cell_type": "code",
      "source": [
        "import numpy as np\n",
        "import matplotlib.pyplot as plt  # Khai báo thư viện pyplot trong matplotlib\n",
        "\n",
        "print(\"a. Sinh ngẫu nhiên theo phân bố đều\")\n",
        "\n",
        "# Sinh dãy số ngẫu nhiên\n",
        "N = 100  # số lượng phần tử\n",
        "a = np.random.randint(0, 11, size=N)  # tạo N số nguyên từ 0 đến 10\n",
        "\n",
        "# Tính tần số xuất hiện\n",
        "value, cnt = np.unique(a, return_counts=True)\n",
        "\n",
        "print(f\"+ Gia tri: {value}\")\n",
        "print(f\"+ So lan xuat hien: {cnt}\")\n",
        "\n",
        "# Vẽ biểu đồ tần số\n",
        "plt.figure(figsize=(6,6))      #  kích thước bản vẽ\n",
        "plt.bar(value, cnt)             #  vẽ các khối chữ nhật theo giá trị và số lần xuất hiện\n",
        "plt.xlim(0, 11)                 #  giới hạn trục x\n",
        "plt.ylim(0, np.max(cnt) + 10)   #  giới hạn trục y\n",
        "plt.xlabel(\"Giá trị\")\n",
        "plt.ylabel(\"Số lần xuất hiện\")\n",
        "plt.title(\"Biểu đồ tần số (phân bố đều)\")\n",
        "plt.savefig(\"4a.png\")           #  lưu đồ thị\n",
        "plt.show()                      #  hiển thị đồ thị\n"
      ],
      "metadata": {
        "colab": {
          "base_uri": "https://localhost:8080/",
          "height": 618
        },
        "id": "-nea5asBN_gD",
        "outputId": "94e87ae0-4656-48f8-e3e3-2946b95a345e"
      },
      "execution_count": 8,
      "outputs": [
        {
          "output_type": "stream",
          "name": "stdout",
          "text": [
            "a. Sinh ngẫu nhiên theo phân bố đều\n",
            "+ Gia tri: [ 0  1  2  3  4  5  6  7  8  9 10]\n",
            "+ So lan xuat hien: [11  7  9 12 11  7  5 10 10  7 11]\n"
          ]
        },
        {
          "output_type": "display_data",
          "data": {
            "text/plain": [
              "<Figure size 600x600 with 1 Axes>"
            ],
            "image/png": "[encoded data removed]"
          },
          "metadata": {}
        }
      ]
    },
    {
      "cell_type": "code",
      "source": [
        "import numpy as np\n",
        "import matplotlib.pyplot as plt\n",
        "\n",
        "print(\"b. Sinh cặp (x, y) với y làm hàm phân phối chuẩn\")\n",
        "\n",
        "# Tham số\n",
        "N = 100                 # số điểm\n",
        "x_min, x_max = -4, 6    # khoảng x\n",
        "m, s = 0, 1             # trung bình m và độ lệch chuẩn s\n",
        "\n",
        "# Sinh ngẫu nhiên x trong [x_min, x_max)\n",
        "x = np.random.rand(N) * (x_max - x_min) + x_min\n",
        "\n",
        "# Tính y theo phân phối chuẩn N(m, s)\n",
        "y = (1/(s * np.sqrt(2 * np.pi))) * np.exp(-0.5 * ((x - m)/s)**2)\n",
        "\n",
        "print(f\"+ x: {x_min} <= min [{np.min(x): .2f}] <= max [{np.max(x): .2f}] <= {x_max}\")\n",
        "print(f\"+ Ve ham so y(x)\")\n",
        "\n",
        "# Vẽ scatter plot\n",
        "plt.figure(figsize=(6,6))\n",
        "plt.scatter(x, y)\n",
        "plt.xlabel(\"x\")\n",
        "plt.ylabel(\"y(x)\")\n",
        "plt.title(\"Hàm phân phối chuẩn N(m,s)\")\n",
        "plt.savefig(\"4b.png\")\n",
        "plt.show()\n"
      ],
      "metadata": {
        "colab": {
          "base_uri": "https://localhost:8080/",
          "height": 618
        },
        "id": "WLmrhwMGOPD6",
        "outputId": "f7543392-0868-4650-d4be-bdcae55cf28d"
      },
      "execution_count": 9,
      "outputs": [
        {
          "output_type": "stream",
          "name": "stdout",
          "text": [
            "b. Sinh cặp (x, y) với y làm hàm phân phối chuẩn\n",
            "+ x: -4 <= min [-4.00] <= max [ 5.98] <= 6\n",
            "+ Ve ham so y(x)\n"
          ]
        },
        {
          "output_type": "display_data",
          "data": {
            "text/plain": [
              "<Figure size 600x600 with 1 Axes>"
            ],
            "image/png": "[encoded data removed]"
          },
          "metadata": {}
        }
      ]
    },
    {
      "cell_type": "code",
      "source": [
        "import numpy as np\n",
        "import matplotlib.pyplot as plt\n",
        "\n",
        "print(\"c. Sinh day so theo phan phoi chuan\")\n",
        "\n",
        "# Tham số\n",
        "N = 100000          # số lượng phần tử\n",
        "m, s = 0, 1         # trung bình và độ lệch chuẩn\n",
        "\n",
        "# Sinh dãy số theo phân phối chuẩn N(m, s^2)\n",
        "x = m + s * np.random.randn(N)\n",
        "\n",
        "print(f\"+ x: len = {len(x)}, min [{np.min(x)}], max [{np.max(x)}]\")\n",
        "\n",
        "# Tính histogram với density=True để có xác suất\n",
        "cnt, bins = np.histogram(x, bins=300, density=True)\n",
        "\n",
        "# Tính giá trị x tương ứng cho các cột histogram\n",
        "val = (bins[:-1] + bins[1:]) / 2  # lấy trung điểm của mỗi bin\n",
        "\n",
        "print(f\"+ Mat so xac suat cua day so x\")\n",
        "\n",
        "# Vẽ scatter plot xác suất\n",
        "plt.figure(figsize=(6,6))\n",
        "plt.xlim(np.min(val), np.max(val))\n",
        "plt.scatter(val, cnt, s=5)  # s=5 để điểm nhỏ hơn\n",
        "plt.xlabel(\"x\")\n",
        "plt.ylabel(\"Probability Density\")\n",
        "plt.title(\"Histogram / Mat so xac suat\")\n",
        "plt.show()\n"
      ],
      "metadata": {
        "colab": {
          "base_uri": "https://localhost:8080/",
          "height": 616
        },
        "id": "Oczc226mOUpb",
        "outputId": "17b5cff1-8388-4871-a8df-52b99df26518"
      },
      "execution_count": 10,
      "outputs": [
        {
          "output_type": "stream",
          "name": "stdout",
          "text": [
            "c. Sinh day so theo phan phoi chuan\n",
            "+ x: len = 100000, min [-4.0656205214801755], max [4.091888691014638]\n",
            "+ Mat so xac suat cua day so x\n"
          ]
        },
        {
          "output_type": "display_data",
          "data": {
            "text/plain": [
              "<Figure size 600x600 with 1 Axes>"
            ],
            "image/png": "[encoded data removed]"
          },
          "metadata": {}
        }
      ]
    },
    {
      "cell_type": "markdown",
      "source": [
        "### Bài 2. Tính toán trên ma trận"
      ],
      "metadata": {
        "id": "Nzp-U0MhOXMM"
      }
    },
    {
      "cell_type": "markdown",
      "source": [
        "#### 1. Tạo ma trận a có M = 6 dòng, N = 4 cột"
      ],
      "metadata": {
        "id": "oUkGPYZLOYOC"
      }
    },
    {
      "cell_type": "code",
      "source": [
        "import numpy as np\n",
        "\n",
        "# Tạo ma trận 6x4 với các số nguyên ngẫu nhiên từ 100 đến 199\n",
        "a = np.random.randint(100, 200, (6, 4))\n",
        "\n",
        "print(\"Ma trận a: \\n\", a)"
      ],
      "metadata": {
        "colab": {
          "base_uri": "https://localhost:8080/"
        },
        "id": "SZ7VYPI2OYv6",
        "outputId": "ce740801-2630-48ca-dab2-7ec22310629d"
      },
      "execution_count": 12,
      "outputs": [
        {
          "output_type": "stream",
          "name": "stdout",
          "text": [
            "Ma trận a: \n",
            " [[192 193 170 146]\n",
            " [157 128 134 183]\n",
            " [116 117 196 165]\n",
            " [145 112 130 149]\n",
            " [133 156 164 180]\n",
            " [120 188 108 163]]\n"
          ]
        }
      ]
    },
    {
      "cell_type": "markdown",
      "source": [
        "#### 2. Các thao tác trên ma trận a\n",
        "(a) In ra ma trận chuyển vị <br/>\n",
        "(b) In ra phần tử ở vị trí dòng 2 cột 3 <br/>\n",
        "(c) Trích xuất dòng đầu, dòng cuối, dòng 2 <br/>\n",
        "(d) Trích xuất cột kế cuối, cột đầu <br/>\n",
        "(e) Đảo các giá trị trên từng cột <br/>\n",
        "(f) Tính tổng các dòng, trung bình các cột <br/>"
      ],
      "metadata": {
        "id": "Q4VEzUnrOf0k"
      }
    },
    {
      "cell_type": "code",
      "source": [
        "import numpy as np\n",
        "\n",
        "# Giả sử a đã được tạo ở bước trước\n",
        "a = np.array([[197, 123, 114, 153],\n",
        "              [100, 191, 101, 148],\n",
        "              [116, 154, 135, 155],\n",
        "              [173, 151, 137, 152],\n",
        "              [177, 178, 107, 174],\n",
        "              [169, 195, 136, 133]])\n",
        "\n",
        "# a. Chuyển vị\n",
        "a_t = a.T\n",
        "\n",
        "# b. Phần tử ở dòng 2, cột 3 (index bắt đầu từ 0)\n",
        "v_23 = a[1, 2]\n",
        "\n",
        "# c. Trích xuất các dòng\n",
        "d_0 = a[0, :]\n",
        "d_last = a[-1, :]\n",
        "d_2 = a[2, :]\n",
        "\n",
        "# d. Trích xuất các cột\n",
        "c_l1 = a[:, -2]\n",
        "c_0 = a[:, 0]\n",
        "\n",
        "# e. Đảo giá trị trên từng cột (flip theo trục 0)\n",
        "dao_cot = np.flipud(a)\n",
        "\n",
        "# f. Phép tính theo trục\n",
        "tong_dong = np.sum(a, axis=1)      # tổng theo dòng\n",
        "tb_cot = np.mean(a, axis=0)        # trung bình theo cột\n",
        "\n",
        "# In kết quả\n",
        "print(f\"a. In ra ma trận chuyển vị: \\n{a_t}\")\n",
        "print(f\"\\nb. In ra phần tử ở vị trí dòng 2 cột 3: {v_23}\")\n",
        "print(f\"\\nc. Trích xuất các dòng: \")\n",
        "print(f\"   + Dòng đầu : {d_0}\")\n",
        "print(f\"   + Dòng cuối: {d_last}\")\n",
        "print(f\"   + Dòng hai : {d_2}\")\n",
        "print(f\"\\nd. Trích xuất các cột: \")\n",
        "print(f\"   + Cột kế cuối: {c_l1}\")\n",
        "print(f\"   + Cột đầu: {c_0}\")\n",
        "print(f\"\\ne. Đảo các giá trị trên từng cột: \\n {dao_cot}\")\n",
        "print(f\"\\nf. Phép tính theo trục:\")\n",
        "print(f\"   + Tổng dòng: {tong_dong}\")\n",
        "print(f\"   + Trung bình cột: {tb_cot}\")\n"
      ],
      "metadata": {
        "colab": {
          "base_uri": "https://localhost:8080/"
        },
        "id": "WjQjoQBbOgIO",
        "outputId": "c8df3440-40d3-473e-ecc1-acf26ff8d695"
      },
      "execution_count": 13,
      "outputs": [
        {
          "output_type": "stream",
          "name": "stdout",
          "text": [
            "a. In ra ma trận chuyển vị: \n",
            "[[197 100 116 173 177 169]\n",
            " [123 191 154 151 178 195]\n",
            " [114 101 135 137 107 136]\n",
            " [153 148 155 152 174 133]]\n",
            "\n",
            "b. In ra phần tử ở vị trí dòng 2 cột 3: 101\n",
            "\n",
            "c. Trích xuất các dòng: \n",
            "   + Dòng đầu : [197 123 114 153]\n",
            "   + Dòng cuối: [169 195 136 133]\n",
            "   + Dòng hai : [116 154 135 155]\n",
            "\n",
            "d. Trích xuất các cột: \n",
            "   + Cột kế cuối: [114 101 135 137 107 136]\n",
            "   + Cột đầu: [197 100 116 173 177 169]\n",
            "\n",
            "e. Đảo các giá trị trên từng cột: \n",
            " [[169 195 136 133]\n",
            " [177 178 107 174]\n",
            " [173 151 137 152]\n",
            " [116 154 135 155]\n",
            " [100 191 101 148]\n",
            " [197 123 114 153]]\n",
            "\n",
            "f. Phép tính theo trục:\n",
            "   + Tổng dòng: [587 540 560 613 636 633]\n",
            "   + Trung bình cột: [155.33333333 165.33333333 121.66666667 152.5       ]\n"
          ]
        }
      ]
    },
    {
      "cell_type": "markdown",
      "source": [
        "#### 3. Các toán tử trên hai ma trận\n",
        "(a) Tạo hai ma trận A và B có 4 dòng x 3 cột và X có 3 dòng x 4 cột <br/>\n",
        "(b) Tính tổng, hiệu, tích của từng phần tử trên hai ma trận A và B <br/>\n",
        "(c) Tính phép nhân ma trận Y = A x X"
      ],
      "metadata": {
        "id": "b4wONJtIOq_a"
      }
    },
    {
      "cell_type": "code",
      "source": [
        "import numpy as np\n",
        "\n",
        "# a. Tạo ma trận\n",
        "A = np.array([[2, 3, 3],\n",
        "              [2, 3, 2],\n",
        "              [4, 2, 2],\n",
        "              [1, 2, 5]])\n",
        "\n",
        "B = np.array([[4, 4, 4],\n",
        "              [4, 4, 3],\n",
        "              [5, 3, 1],\n",
        "              [1, 2, 4]])\n",
        "\n",
        "X = np.array([[5, 4, 1, 4],\n",
        "              [3, 4, 1, 2],\n",
        "              [3, 2, 4, 4]])\n",
        "\n",
        "print(\"a. Tạo hai ma trận A và B có 4 dòng x 3 cột và X có 3 dòng x 4 cột\")\n",
        "print(f\"+ Ma tran A: \\n{A}\")\n",
        "print(f\"+ Ma tran B: \\n{B}\")\n",
        "print(f\"+ Ma tran X: \\n{X}\")\n",
        "\n",
        "# b. Tính tổng, hiệu, tích từng phần tử\n",
        "AB_add = A + B\n",
        "AB_sub = A - B\n",
        "AB_mul = A * B\n",
        "\n",
        "print(\"\\nb. Tính tổng, hiệu, tích của từng phần tử trên hai ma trận A và B\")\n",
        "print(f\"A + B = \\n{AB_add}\")\n",
        "print(f\"A - B = \\n{AB_sub}\")\n",
        "print(f\"A . B = \\n{AB_mul}\")\n",
        "\n",
        "# c. Tính nhân ma trận\n",
        "Y = np.dot(A, X)  # hoặc A @ X\n",
        "\n",
        "print(\"\\nc. Tính phép nhân ma trận Y = A x X\")\n",
        "print(f\"Y = A x X --> shape A ({A.shape}) x shape X ({X.shape}) = shape Y ({Y.shape}) \\n{Y}\")\n"
      ],
      "metadata": {
        "colab": {
          "base_uri": "https://localhost:8080/"
        },
        "id": "mYxv5cJOOrRL",
        "outputId": "a3831c43-5d29-48bb-a599-7c212ed987e4"
      },
      "execution_count": 14,
      "outputs": [
        {
          "output_type": "stream",
          "name": "stdout",
          "text": [
            "a. Tạo hai ma trận A và B có 4 dòng x 3 cột và X có 3 dòng x 4 cột\n",
            "+ Ma tran A: \n",
            "[[2 3 3]\n",
            " [2 3 2]\n",
            " [4 2 2]\n",
            " [1 2 5]]\n",
            "+ Ma tran B: \n",
            "[[4 4 4]\n",
            " [4 4 3]\n",
            " [5 3 1]\n",
            " [1 2 4]]\n",
            "+ Ma tran X: \n",
            "[[5 4 1 4]\n",
            " [3 4 1 2]\n",
            " [3 2 4 4]]\n",
            "\n",
            "b. Tính tổng, hiệu, tích của từng phần tử trên hai ma trận A và B\n",
            "A + B = \n",
            "[[6 7 7]\n",
            " [6 7 5]\n",
            " [9 5 3]\n",
            " [2 4 9]]\n",
            "A - B = \n",
            "[[-2 -1 -1]\n",
            " [-2 -1 -1]\n",
            " [-1 -1  1]\n",
            " [ 0  0  1]]\n",
            "A . B = \n",
            "[[ 8 12 12]\n",
            " [ 8 12  6]\n",
            " [20  6  2]\n",
            " [ 1  4 20]]\n",
            "\n",
            "c. Tính phép nhân ma trận Y = A x X\n",
            "Y = A x X --> shape A ((4, 3)) x shape X ((3, 4)) = shape Y ((4, 4)) \n",
            "[[28 26 17 26]\n",
            " [25 24 13 22]\n",
            " [32 28 14 28]\n",
            " [26 22 23 28]]\n"
          ]
        }
      ]
    },
    {
      "cell_type": "markdown",
      "source": [
        "#### 4. Giải hệ phương trình tuyến tính\n",
        "Giải hệ phương trình tuyến tính sau:\n",
        "$$\n",
        "\\left\\{\\begin{matrix}\n",
        "        4x_1  + 3x_2 - 5x_3 = 2 \\\\\n",
        "        -2x_1 - 4x_2 + 5x_3 = 5 \\\\\n",
        "        8x_1 + 8x_2 = -3 \\\\\n",
        "\\end{matrix}\\right.\n",
        "$$"
      ],
      "metadata": {
        "id": "sTuR6W_jO2NL"
      }
    },
    {
      "cell_type": "code",
      "source": [
        "import numpy as np\n",
        "\n",
        "# Tạo ma trận A và vector y\n",
        "A = np.array([[ 4,  3, -5],\n",
        "              [-2, -4,  5],\n",
        "              [ 8,  8,  0]])\n",
        "y = np.array([ 2,  5, -3])\n",
        "\n",
        "# Giải hệ phương trình Ax = y\n",
        "x = np.linalg.solve(A, y)  # numpy sẽ tự động tìm nghiệm\n",
        "\n",
        "# Kiểm tra nghiệm\n",
        "yy = np.dot(A, x)           # Ax\n",
        "diff = np.linalg.norm(yy - y)  # chuẩn L2 của sai số\n",
        "\n",
        "# In kết quả\n",
        "print(f\"+ Ma tran A: \\n{A}\")\n",
        "print(f\"+ Vector y: {y}\")\n",
        "print(f\"+ Nghiem x: {x}\")\n",
        "print(f\"+ Kiem tra: yy = Ax = {yy} ==> ||yy -y ||_2 = {diff: .2f}\")\n"
      ],
      "metadata": {
        "colab": {
          "base_uri": "https://localhost:8080/"
        },
        "id": "ZrL4PpqXO2eV",
        "outputId": "2f18e113-3d59-4b19-9559-47cc396ac56b"
      },
      "execution_count": 15,
      "outputs": [
        {
          "output_type": "stream",
          "name": "stdout",
          "text": [
            "+ Ma tran A: \n",
            "[[ 4  3 -5]\n",
            " [-2 -4  5]\n",
            " [ 8  8  0]]\n",
            "+ Vector y: [ 2  5 -3]\n",
            "+ Nghiem x: [ 2.20833333 -2.58333333 -0.18333333]\n",
            "+ Kiem tra: yy = Ax = [ 2.  5. -3.] ==> ||yy -y ||_2 =  0.00\n"
          ]
        }
      ]
    },
    {
      "cell_type": "markdown",
      "source": [
        "## Bài tập áp dụng"
      ],
      "metadata": {
        "id": "6JvlZHtoO7xE"
      }
    },
    {
      "cell_type": "markdown",
      "source": [
        "### Bài 3. Tính gần đúng số pi dùng phương pháp Monte Carlo\n",
        "\n",
        "Vẽ một đường tròn $C$ có bán kính $r$ nội tiếp một hình vuông $C$, và đặt ngẫu nhiên $N$ chấm lên hình vuông. Tỉ lệ các chấm nằm trong hình tròn trên tổng số chấm xấp xỉ bằng diện tích của hình tròn chia cho hình vuông như sau:\n",
        "$$\n",
        "\\frac{N_C}{N} \\approx  \\frac{\\mathbb{S}_C}{\\mathbb{S}_N}\n",
        "$$\n",
        "nơi mà $N_C$ là các chấm trong hình tròn, $N$ là tổng số chấm, $\\mathbb{S}_C$ và $\\mathbb{S}_N$ lần lượt là diện tích của hình tròn và hình vuông.\n",
        "$$ \\mathbb{S}_C = \\pi * r^2 $$\n",
        "$$ \\mathbb{S}_N = (2*r)^2 = 4r^2 $$\n",
        "Do đó, công thức trên trở thành:\n",
        "$$\n",
        "\\frac{N_C}{N} \\approx \\frac{\\pi * r^2}{4r^2} = \\frac{\\pi}{4}\n",
        "$$\n",
        "Suy ra, ta có giá trị số $\\pi$ được tính như sau:\n",
        "$$\n",
        "\\pi \\approx \\frac{4N_C}{N}\n",
        "$$\n",
        "\n",
        "Các bạn hãy lập trình tính sấp xỉ số $\\pi$ dùng phương pháp Monte Carlo. Cho biết các sai số với $N = 100$, $N = 10000$, và $N = 1000000$. Vẽ đồ thị minh họa cho chương trình.\n",
        "\n",
        "**Hướng dẫn**: Viết chương trình phát sinh $N$ điểm $(x_i, y_i)$ với $x_i, y_i \\in [-1, -1]$. $(x_i, y_i)$ thuộc hình tròn tâm $(0, 0)$ bán kính 1 nội tiếp hình vuông có tâm tại $(0, 0)$ độ dài cạnh 2 khi và chỉ khi $x_i^2 + y_i^2 <= 1$."
      ],
      "metadata": {
        "id": "qpBWC4lIO8La"
      }
    },
    {
      "cell_type": "code",
      "source": [
        "import matplotlib.pyplot as plt # khai báo thư viện vẽ pyplot\n",
        "import math\n",
        "\n",
        "circle = plt.Circle((0, 0), 1, color='g') # tạo đối tượng vòng tròn\n",
        "\n",
        "fig, ax = plt.subplots(figsize=(6, 6)) # lấy figure và vùng vẽ\n",
        "\n",
        "plt.plot(0, 0, 'o', color=(0.9, 0.9, 1.0), alpha=0.8) # vẽ điểm tại tâm (0,0)\n",
        "ax.add_patch(circle) # thêm vòng tròn vào vùng vẽ\n",
        "\n",
        "x = 0.75; y = math.sqrt(1 - (x ** 2)) # (x = 0.75, y = căn bậc 2 của 1 - x^2)\n",
        "plt.arrow(0, 0, x, y)\n",
        "\n",
        "plt.xlim(-1, 1) # giới hạn trục x\n",
        "plt.ylim(-1, 1) # giới hạn trục y\n",
        "\n",
        "plt.savefig('pi.png') # lưu đồ thị xuống tập tin\n",
        "plt.show()            # hiển thị đồ thị"
      ],
      "metadata": {
        "colab": {
          "base_uri": "https://localhost:8080/",
          "height": 528
        },
        "id": "o4yy03CLO9QE",
        "outputId": "d5cc5996-3957-4057-c2bc-7c80c1df28b6"
      },
      "execution_count": 16,
      "outputs": [
        {
          "output_type": "display_data",
          "data": {
            "text/plain": [
              "<Figure size 600x600 with 1 Axes>"
            ],
            "image/png": "[encoded data removed]"
          },
          "metadata": {}
        }
      ]
    },
    {
      "cell_type": "code",
      "source": [
        "import numpy as np\n",
        "\n",
        "def calc_pi_monte_carlo(n=100):\n",
        "    \"\"\"\n",
        "    Tính xấp xỉ pi bằng phương pháp Monte Carlo\n",
        "    n: số điểm thử\n",
        "    \"\"\"\n",
        "    # Sinh n điểm ngẫu nhiên (x, y) trong [0,1) x [0,1)\n",
        "    x = np.random.rand(n)\n",
        "    y = np.random.rand(n)\n",
        "\n",
        "    # Kiểm tra số điểm nằm trong vòng tròn bán kính 1\n",
        "    inside_circle = (x**2 + y**2) <= 1\n",
        "\n",
        "    # Xấp xỉ pi\n",
        "    pi = 4 * np.sum(inside_circle) / n\n",
        "\n",
        "    return pi\n",
        "\n",
        "import math\n",
        "\n",
        "print(\"epsilon(n=100): \", calc_pi_monte_carlo(n = 100) - math.pi)\n",
        "print(\"epsilon(n=100): \", calc_pi_monte_carlo(n = 100) - math.pi)\n",
        "print(\"epsilon(n=10000): \", calc_pi_monte_carlo(n = 10000) - math.pi)\n",
        "print(\"epsilon(n=10000): \", calc_pi_monte_carlo(n = 10000) - math.pi)\n",
        "print(\"epsilon(n=1000000): \", calc_pi_monte_carlo(n = 1000000) - math.pi)\n",
        "print(\"epsilon(n=1000000): \", calc_pi_monte_carlo(n = 1000000) - math.pi)\n"
      ],
      "metadata": {
        "colab": {
          "base_uri": "https://localhost:8080/"
        },
        "id": "f3eFhxxLPA_8",
        "outputId": "42272f80-23bc-4abb-be47-9d6f8b8cf5b8"
      },
      "execution_count": 17,
      "outputs": [
        {
          "output_type": "stream",
          "name": "stdout",
          "text": [
            "epsilon(n=100):  -0.2615926535897932\n",
            "epsilon(n=100):  0.018407346410207026\n",
            "epsilon(n=10000):  0.013607346410206667\n",
            "epsilon(n=10000):  -0.004792653589793083\n",
            "epsilon(n=1000000):  -0.0013846535897932277\n",
            "epsilon(n=1000000):  0.001179346410206783\n"
          ]
        }
      ]
    },
    {
      "cell_type": "markdown",
      "source": [
        "# Kết thúc"
      ],
      "metadata": {
        "id": "jCYoZC-YPIhD"
      }
    }
  ]
}