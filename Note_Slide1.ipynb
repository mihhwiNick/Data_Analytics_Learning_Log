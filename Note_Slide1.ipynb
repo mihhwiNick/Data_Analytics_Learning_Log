{
  "nbformat": 4,
  "nbformat_minor": 0,
  "metadata": {
    "colab": {
      "provenance": [],
      "toc_visible": true,
      "authorship_tag": "ABX9TyMb9LpNoFPvS0Vxn1kwrqmv",
      "include_colab_link": true
    },
    "kernelspec": {
      "name": "python3",
      "display_name": "Python 3"
    },
    "language_info": {
      "name": "python"
    }
  },
  "cells": [
    {
      "cell_type": "markdown",
      "metadata": {
        "id": "view-in-github",
        "colab_type": "text"
      },
      "source": [
        "<a href=\"https://colab.research.google.com/github/mihhwiNick/Data_Analytics_Learning_Log/blob/main/Note_Slide1.ipynb\" target=\"_parent\"><img src=\"https://colab.research.google.com/assets/colab-badge.svg\" alt=\"Open In Colab\"/></a>"
      ]
    },
    {
      "cell_type": "markdown",
      "source": [
        "# Python Programming"
      ],
      "metadata": {
        "id": "xOl0vLEadMAU"
      }
    },
    {
      "cell_type": "markdown",
      "source": [
        "## Syntax"
      ],
      "metadata": {
        "id": "gztMq7JwdUJn"
      }
    },
    {
      "cell_type": "markdown",
      "source": [
        "### Print to the screen"
      ],
      "metadata": {
        "id": "v1_Dt3I6dz19"
      }
    },
    {
      "cell_type": "code",
      "source": [
        "print(\"Hello Python!\")\n",
        "print(\"Hello World\")"
      ],
      "metadata": {
        "colab": {
          "base_uri": "https://localhost:8080/"
        },
        "id": "AG718UTbdntN",
        "outputId": "0687e346-1b12-4529-9dcf-0909fc796cc4"
      },
      "execution_count": null,
      "outputs": [
        {
          "output_type": "stream",
          "name": "stdout",
          "text": [
            "Hello Python!\n",
            "Hello World\n"
          ]
        }
      ]
    },
    {
      "cell_type": "markdown",
      "source": [
        "### Comment"
      ],
      "metadata": {
        "id": "zZ-DwNjXePbP"
      }
    },
    {
      "cell_type": "code",
      "source": [
        "# This is my comment"
      ],
      "metadata": {
        "id": "774ihkLjeUUk"
      },
      "execution_count": null,
      "outputs": []
    },
    {
      "cell_type": "markdown",
      "source": [
        "### Identation"
      ],
      "metadata": {
        "id": "0v2JK1IuelM2"
      }
    },
    {
      "cell_type": "code",
      "source": [
        "score = 80\n",
        "if score >=60 :\n",
        "  print(\"Smart\")\n",
        "print(\"Not smart\")"
      ],
      "metadata": {
        "colab": {
          "base_uri": "https://localhost:8080/"
        },
        "id": "XH-3xdMxe6a5",
        "outputId": "d9e5e055-1615-4e71-8d6a-b4a5d2414e3e"
      },
      "execution_count": null,
      "outputs": [
        {
          "output_type": "stream",
          "name": "stdout",
          "text": [
            "Smart\n",
            "Not smart\n"
          ]
        }
      ]
    },
    {
      "cell_type": "markdown",
      "source": [
        "## Variables"
      ],
      "metadata": {
        "id": "-mOrTLlffVdl"
      }
    },
    {
      "cell_type": "code",
      "source": [
        "# Python Variables\n",
        "x = 2\n",
        "y = 3 + x\n",
        "price = 2.5\n",
        "word = 'Hello'\n",
        "word = \"Hello\"\n",
        "word = '''Hello'''\n",
        "double_word = word + ' Huy'\n",
        "print('y = ',y)\n",
        "print(double_word)"
      ],
      "metadata": {
        "colab": {
          "base_uri": "https://localhost:8080/"
        },
        "id": "M5iYPexUfZhJ",
        "outputId": "cd393b6b-2a49-4819-9670-ada3578f27c2"
      },
      "execution_count": null,
      "outputs": [
        {
          "output_type": "stream",
          "name": "stdout",
          "text": [
            "y =  5\n",
            "Hello Huy\n"
          ]
        }
      ]
    },
    {
      "cell_type": "markdown",
      "source": [
        "## Version"
      ],
      "metadata": {
        "id": "rguIJgqugDUD"
      }
    },
    {
      "cell_type": "code",
      "source": [
        "# to find Python version\n",
        "from platform import python_version\n",
        "print(\"Python Version:\", python_version())"
      ],
      "metadata": {
        "colab": {
          "base_uri": "https://localhost:8080/"
        },
        "id": "upG8YRYggJWI",
        "outputId": "25f0f450-1559-40fe-f55d-594ebf0cad3c"
      },
      "execution_count": null,
      "outputs": [
        {
          "output_type": "stream",
          "name": "stdout",
          "text": [
            "Python Version: 3.12.11\n"
          ]
        }
      ]
    },
    {
      "cell_type": "markdown",
      "source": [
        "## Data types"
      ],
      "metadata": {
        "id": "5XzmfPcKga0c"
      }
    },
    {
      "cell_type": "code",
      "source": [
        "x = \"Hello World\" #str\n",
        "print(x, 'and data_type:',type(x).__name__)\n",
        "y = 2 #int\n",
        "print(y, 'and data_type:',type(y).__name__)\n",
        "z = 2.5 #float\n",
        "print(z, 'and data_type:',type(z).__name__)\n",
        "t = 7j #complex\n",
        "print(t, 'and data_type:',type(t).__name__)"
      ],
      "metadata": {
        "colab": {
          "base_uri": "https://localhost:8080/"
        },
        "id": "I6jFyxtHgdLZ",
        "outputId": "8b4c4e5b-7940-4fa1-8f15-b3a9a380ad44"
      },
      "execution_count": null,
      "outputs": [
        {
          "output_type": "stream",
          "name": "stdout",
          "text": [
            "Hello World and data_type: str\n",
            "2 and data_type: int\n",
            "2.5 and data_type: float\n",
            "7j and data_type: complex\n"
          ]
        }
      ]
    },
    {
      "cell_type": "code",
      "source": [
        "x = [\"apple\", \"banana\", \"cherry\"] #list\n",
        "print(x, 'and data_type:',type(x).__name__)\n",
        "y = (\"apple\", \"banana\", \"cherry\") #tuple\n",
        "print(y, 'and data_type:',type(y).__name__)\n",
        "z = range(6) #range\n",
        "print(z, 'and data_type:',type(z).__name__)\n",
        "k = {\"name\" : \"Tom\", \"age\" : 20} #dict\n",
        "print(k, 'and data_type:',type(k).__name__)\n",
        "h = {\"apple\", \"banana\", \"cherry\"} #set\n",
        "print(h, 'and data_type:',type(h).__name__)"
      ],
      "metadata": {
        "colab": {
          "base_uri": "https://localhost:8080/"
        },
        "id": "4vqUkWB3hS73",
        "outputId": "299ddf01-ac08-41ae-ed67-b6bdd4323f5c"
      },
      "execution_count": null,
      "outputs": [
        {
          "output_type": "stream",
          "name": "stdout",
          "text": [
            "['apple', 'banana', 'cherry'] and data_type: list\n",
            "('apple', 'banana', 'cherry') and data_type: tuple\n",
            "range(0, 6) and data_type: range\n",
            "{'name': 'Tom', 'age': 20} and data_type: dict\n",
            "{'banana', 'apple', 'cherry'} and data_type: set\n"
          ]
        }
      ]
    },
    {
      "cell_type": "code",
      "source": [
        "x = True #bool\n",
        "print(x, 'and data_type:',type(x).__name__)\n",
        "y = b\"Hello\" #bytes\n",
        "print(y, 'and data_type:',type(y).__name__)\n",
        "z = bytearray(5) #bytearray\n",
        "print(z, 'and data_type:',type(z).__name__)\n",
        "k = memoryview(bytes(5)) #memoryview\n",
        "print(k, 'and data_type:',type(k).__name__)\n",
        "h = None #NoneType\n",
        "print(h, 'and data_type:',type(h).__name__)"
      ],
      "metadata": {
        "colab": {
          "base_uri": "https://localhost:8080/"
        },
        "id": "ekdiIvP6h42_",
        "outputId": "27cb94d8-d5e0-4fba-f18c-ffe28730833d"
      },
      "execution_count": null,
      "outputs": [
        {
          "output_type": "stream",
          "name": "stdout",
          "text": [
            "True and data_type: bool\n",
            "b'Hello' and data_type: bytes\n",
            "bytearray(b'\\x00\\x00\\x00\\x00\\x00') and data_type: bytearray\n",
            "<memory at 0x7d1e26272b00> and data_type: memoryview\n",
            "None and data_type: NoneType\n"
          ]
        }
      ]
    },
    {
      "cell_type": "markdown",
      "source": [
        "### List"
      ],
      "metadata": {
        "id": "kuuqEYQHlaee"
      }
    },
    {
      "cell_type": "code",
      "source": [
        "x = [60, 70, 80, 90]\n",
        "total = sum(x)\n",
        "print(len(x))\n",
        "print(x[0])\n",
        "print(x[1])\n",
        "print(x[-1])\n",
        "print(x[-2])\n",
        "print('Tong =',total)"
      ],
      "metadata": {
        "colab": {
          "base_uri": "https://localhost:8080/"
        },
        "id": "__noYoQ3mKAX",
        "outputId": "ad3cbb96-cfe1-44ad-f468-ab7ddbc77368"
      },
      "execution_count": null,
      "outputs": [
        {
          "output_type": "stream",
          "name": "stdout",
          "text": [
            "4\n",
            "60\n",
            "70\n",
            "90\n",
            "80\n",
            "Tong = 300\n"
          ]
        }
      ]
    },
    {
      "cell_type": "markdown",
      "source": [
        "### Tuples"
      ],
      "metadata": {
        "id": "TDigxvKxmsp1"
      }
    },
    {
      "cell_type": "code",
      "source": [
        "x = (10, 20, 30, 40, 50)\n",
        "print(x[0])\n",
        "print(x[1])\n",
        "print(x[2])\n",
        "print(x[-1])\n",
        "\n",
        "accounts = ((\"Cash\",100, \"Valid\"), (\"Account Receivable\",200,\"Invalid\"), (\"Inventory\",300,\"Valid\"))\n",
        "for account in accounts:\n",
        "  print(\"Name:\",account[0], \", Number:\",account[1], \"-> Status:\", account[2])\n"
      ],
      "metadata": {
        "colab": {
          "base_uri": "https://localhost:8080/"
        },
        "id": "ir4l4vGxmuys",
        "outputId": "444225d8-8018-4bc6-9f49-cd264dd86bf4"
      },
      "execution_count": null,
      "outputs": [
        {
          "output_type": "stream",
          "name": "stdout",
          "text": [
            "10\n",
            "20\n",
            "30\n",
            "50\n",
            "Name: Cash , Number: 100 -> Status: Valid\n",
            "Name: Account Receivable , Number: 200 -> Status: Invalid\n",
            "Name: Inventory , Number: 300 -> Status: Valid\n"
          ]
        }
      ]
    },
    {
      "cell_type": "markdown",
      "source": [
        "### Sets"
      ],
      "metadata": {
        "id": "0lOZrrJMmzPT"
      }
    },
    {
      "cell_type": "code",
      "source": [
        "animals = {'cat', 'dog'}\n",
        "print('cat' in animals)\n",
        "print('fish' in animals)\n",
        "animals.add('fish')\n",
        "print('fish' in animals)\n",
        "print(len(animals))\n",
        "animals.add('horse')\n",
        "print(len(animals))\n",
        "animals.remove('cat')\n",
        "print(len(animals))\n",
        "\n",
        "new_animal = 'dolphin'\n",
        "if new_animal not in animals:\n",
        "  print(\"The animal\", new_animal, \"is not exists.\")"
      ],
      "metadata": {
        "colab": {
          "base_uri": "https://localhost:8080/"
        },
        "id": "NgVHin2dm1ZR",
        "outputId": "acac3958-d60a-421c-a3ef-39cf12d4329c"
      },
      "execution_count": null,
      "outputs": [
        {
          "output_type": "stream",
          "name": "stdout",
          "text": [
            "True\n",
            "False\n",
            "True\n",
            "3\n",
            "4\n",
            "3\n",
            "The animal dolphin is not exists.\n"
          ]
        }
      ]
    },
    {
      "cell_type": "markdown",
      "source": [
        "### Dictonary"
      ],
      "metadata": {
        "id": "oquyNjR-nNrR"
      }
    },
    {
      "cell_type": "code",
      "source": [
        "k = { 'EN':'English', 'FR':'French', 'Hu':'Huy','Ho':'Hoàng'}\n",
        "print(k['EN'])\n",
        "print(k['Hu'])\n",
        "print(k['Ho'])\n",
        "print(\" \")\n",
        "accounts = {\"1001\": {\"name\": \"Cash\", \"balance\": 500.00, \"type\": \"Asset\"},\n",
        "\"1002\": {\"name\": \"Accounts Receivable\", \"balance\": 1000.00, \"type\": \"Asset\"},\n",
        "\"2001\": {\"name\": \"Accounts Payable\", \"balance\": 750.00, \"type\": \"Liability\"}}\n",
        "for account_number, account_info in accounts.items():\n",
        "  print(\"Account number:\", account_number)\n",
        "  print(\"Account name:\", account_info[\"name\"])\n",
        "  print(\"Account balance:\", account_info[\"balance\"])\n",
        "  print(\"Account type:\", account_info[\"type\"])\n",
        "  print(\" \")"
      ],
      "metadata": {
        "colab": {
          "base_uri": "https://localhost:8080/"
        },
        "id": "9q2GCQQPnPXX",
        "outputId": "e2027f68-6434-446a-fad6-7f07564ba473"
      },
      "execution_count": 3,
      "outputs": [
        {
          "output_type": "stream",
          "name": "stdout",
          "text": [
            "English\n",
            "Huy\n",
            "Hoàng\n",
            " \n",
            "Account number: 1001\n",
            "Account name: Cash\n",
            "Account balance: 500.0\n",
            "Account type: Asset\n",
            " \n",
            "Account number: 1002\n",
            "Account name: Accounts Receivable\n",
            "Account balance: 1000.0\n",
            "Account type: Asset\n",
            " \n",
            "Account number: 2001\n",
            "Account name: Accounts Payable\n",
            "Account balance: 750.0\n",
            "Account type: Liability\n",
            " \n"
          ]
        }
      ]
    },
    {
      "cell_type": "markdown",
      "source": [
        "### Casting"
      ],
      "metadata": {
        "id": "Bn0R-MCKiOM9"
      }
    },
    {
      "cell_type": "code",
      "source": [
        "x = str(3) # x will be '3'\n",
        "y = int(3) # y will be 3\n",
        "z = float(3) # z will be 3.0\n",
        "print(x, type(x))\n",
        "print(y, type(y))\n",
        "print(z, type(z))\n",
        "print(h, type(h))"
      ],
      "metadata": {
        "colab": {
          "base_uri": "https://localhost:8080/"
        },
        "id": "HKbMhhWbiVhN",
        "outputId": "0935dd2f-7f80-463c-8506-51c8d37b3882"
      },
      "execution_count": null,
      "outputs": [
        {
          "output_type": "stream",
          "name": "stdout",
          "text": [
            "3 <class 'str'>\n",
            "3 <class 'int'>\n",
            "3.0 <class 'float'>\n",
            "4 <class 'int'>\n"
          ]
        }
      ]
    },
    {
      "cell_type": "markdown",
      "source": [
        "## Arithmetic operators"
      ],
      "metadata": {
        "id": "9zCbYHeQirA3"
      }
    },
    {
      "cell_type": "code",
      "source": [
        "print('7 + 2 =', 7 + 2) # Addition\n",
        "print('7 - 2 =', 7 - 2) # Subtraction\n",
        "print('7 * 2 =', 7 * 2) # Multiplication\n",
        "print('7 / 2 =', 7 / 2) # Division\n",
        "print('7 // 2 =', 7 // 2) # Floor Division\n",
        "print('7 % 2 =', 7 % 2) # modulus\n",
        "print('7 ** 2 =', 7 ** 2) # exponentiation"
      ],
      "metadata": {
        "colab": {
          "base_uri": "https://localhost:8080/"
        },
        "id": "qei7H8gHi-dB",
        "outputId": "fc5ef52c-4e46-4f99-ea88-2e509cb8e086"
      },
      "execution_count": null,
      "outputs": [
        {
          "output_type": "stream",
          "name": "stdout",
          "text": [
            "7 + 2 = 9\n",
            "7 - 2 = 5\n",
            "7 * 2 = 14\n",
            "7 / 2 = 3.5\n",
            "7 // 2 = 3\n",
            "7 % 2 = 1\n",
            "7 ** 2 = 49\n"
          ]
        }
      ]
    },
    {
      "cell_type": "markdown",
      "source": [
        "## Booleans: T or F"
      ],
      "metadata": {
        "id": "kO3CLEXpjm2L"
      }
    },
    {
      "cell_type": "code",
      "source": [
        "print('3 > 2: ',3 > 2)\n",
        "print('3 == 2: ',3 == 2)\n",
        "print('3 < 2: ',3 < 2)"
      ],
      "metadata": {
        "colab": {
          "base_uri": "https://localhost:8080/"
        },
        "id": "Kyx4-PM1jqJ1",
        "outputId": "0202b222-07cc-4122-aab2-a6b56ec607a4"
      },
      "execution_count": null,
      "outputs": [
        {
          "output_type": "stream",
          "name": "stdout",
          "text": [
            "3 > 2:  True\n",
            "3 == 2:  False\n",
            "3 < 2:  False\n"
          ]
        }
      ]
    },
    {
      "cell_type": "markdown",
      "source": [
        "## BMI calculator"
      ],
      "metadata": {
        "id": "tMTE20V5j3gd"
      }
    },
    {
      "cell_type": "code",
      "source": [
        "height_cm = 168\n",
        "weight_kg = 57\n",
        "height_m = height_cm/100\n",
        "BMI = (weight_kg/(height_m**2))\n",
        "if(round(BMI,1)>25):\n",
        "  print('Bạn có nguy cơ bị béo phì!')\n",
        "elif((round(BMI,1))>=18.5 and (round(BMI,1)<=24.9)) :\n",
        "  print('Bạn bình thường, khỏe mạnh!')\n",
        "else:\n",
        "  print('Bạn thiếu cân, gầy hoặc suy dinh dưỡng!')"
      ],
      "metadata": {
        "colab": {
          "base_uri": "https://localhost:8080/"
        },
        "id": "jHcG6n3_j6Wq",
        "outputId": "e2bcf77c-7b2d-49fa-8f31-57149956a64f"
      },
      "execution_count": null,
      "outputs": [
        {
          "output_type": "stream",
          "name": "stdout",
          "text": [
            "Bạn bình thường, khỏe mạnh!\n"
          ]
        }
      ]
    },
    {
      "cell_type": "markdown",
      "source": [
        "## Future value cal"
      ],
      "metadata": {
        "id": "a9hQDHotnHEo"
      }
    },
    {
      "cell_type": "code",
      "source": [
        "# How much is your $100 worth after 7 years?\n",
        "pv = 100\n",
        "r = 0.1\n",
        "n = 7\n",
        "fv = pv * ((1 + (r)) ** n)\n",
        "print(round(fv, 2))\n",
        "# output = 194.87"
      ],
      "metadata": {
        "colab": {
          "base_uri": "https://localhost:8080/"
        },
        "id": "aEqFA02snKS6",
        "outputId": "212e7999-b5a5-43de-a6c8-6ee673789e0f"
      },
      "execution_count": null,
      "outputs": [
        {
          "output_type": "stream",
          "name": "stdout",
          "text": [
            "194.87\n"
          ]
        }
      ]
    },
    {
      "cell_type": "code",
      "source": [
        "amount = 100\n",
        "interest = 10 #10% = 0.01 * 10\n",
        "years = 7\n",
        "\n",
        "future_value = amount * ((1 + (0.01 * interest)) ** years)\n",
        "print(round(future_value, 2))"
      ],
      "metadata": {
        "colab": {
          "base_uri": "https://localhost:8080/"
        },
        "id": "4OjTE85MnxBs",
        "outputId": "a8ac6385-7680-43b7-fe49-90547445fc50"
      },
      "execution_count": null,
      "outputs": [
        {
          "output_type": "stream",
          "name": "stdout",
          "text": [
            "194.87\n"
          ]
        }
      ]
    },
    {
      "cell_type": "markdown",
      "source": [
        "## Control logic and Loops"
      ],
      "metadata": {
        "id": "cm9JOTjkQWqj"
      }
    },
    {
      "cell_type": "markdown",
      "source": [
        "### if__elif__else"
      ],
      "metadata": {
        "id": "D63f86kkQcXa"
      }
    },
    {
      "cell_type": "code",
      "source": [
        "score = 70\n",
        "if score >= 90 :\n",
        "  print(\"A\")\n",
        "elif score >=60 :\n",
        "  print(\"Pass\")\n",
        "else:\n",
        "  print(\"Fail\")\n",
        "\n",
        "score = 90\n",
        "grade = \"\"\n",
        "if score >=90:\n",
        "  grade = \"A\"\n",
        "elif score >= 80:\n",
        "  grade = \"B\"\n",
        "elif score >= 70:\n",
        "  grade = \"C\"\n",
        "elif score >= 60:\n",
        "  grade = \"D\"\n",
        "else:\n",
        "  grade = \"E\"\n",
        "print(grade)"
      ],
      "metadata": {
        "colab": {
          "base_uri": "https://localhost:8080/"
        },
        "id": "BcUo9EKqQdvM",
        "outputId": "00042a8f-341e-4277-9bd6-c7c11a174485"
      },
      "execution_count": 6,
      "outputs": [
        {
          "output_type": "stream",
          "name": "stdout",
          "text": [
            "Pass\n",
            "A\n"
          ]
        }
      ]
    },
    {
      "cell_type": "markdown",
      "source": [
        "### For loops"
      ],
      "metadata": {
        "id": "Zwo4pM0GQ9u6"
      }
    },
    {
      "cell_type": "code",
      "source": [
        "for i in range(1,5):\n",
        "  for j in range(1,5):\n",
        "    print(i, ' * ' , j , ' = ', i*j)\n",
        "\n",
        "n = 20\n",
        "count=0\n",
        "for h in range(1,n+1):\n",
        "  if(n % h == 0):\n",
        "    count+=1\n",
        "if(count==2):\n",
        "  print(n, \" la so nguyen to\")\n",
        "else:\n",
        "  print(n,' khong phai la so nguyen to')"
      ],
      "metadata": {
        "colab": {
          "base_uri": "https://localhost:8080/"
        },
        "id": "NJ2gt3RAR_UL",
        "outputId": "a53e6600-c67b-45d0-d280-87b840cc8d02"
      },
      "execution_count": 24,
      "outputs": [
        {
          "output_type": "stream",
          "name": "stdout",
          "text": [
            "1  *  1  =  1\n",
            "1  *  2  =  2\n",
            "1  *  3  =  3\n",
            "1  *  4  =  4\n",
            "2  *  1  =  2\n",
            "2  *  2  =  4\n",
            "2  *  3  =  6\n",
            "2  *  4  =  8\n",
            "3  *  1  =  3\n",
            "3  *  2  =  6\n",
            "3  *  3  =  9\n",
            "3  *  4  =  12\n",
            "4  *  1  =  4\n",
            "4  *  2  =  8\n",
            "4  *  3  =  12\n",
            "4  *  4  =  16\n",
            "20  khong phai la so nguyen to\n"
          ]
        }
      ]
    },
    {
      "cell_type": "markdown",
      "source": [
        "### While loops"
      ],
      "metadata": {
        "id": "-TsIumqdTEYO"
      }
    },
    {
      "cell_type": "code",
      "source": [
        "age = 10\n",
        "while age < 15:\n",
        "  print(age)\n",
        "  age = age + 1\n",
        "\n",
        "\n",
        "n = 123\n",
        "rev = 0\n",
        "while (n>0):\n",
        "  s1 = n % 10\n",
        "  rev = rev * 10 + s1\n",
        "  n //= 10\n",
        "print(\"So dao nguoc la: \",rev)"
      ],
      "metadata": {
        "colab": {
          "base_uri": "https://localhost:8080/"
        },
        "id": "S0AJYQYLTGEk",
        "outputId": "5f6639d6-c58b-41ed-be5e-3eb47925e3a6"
      },
      "execution_count": 34,
      "outputs": [
        {
          "output_type": "stream",
          "name": "stdout",
          "text": [
            "10\n",
            "11\n",
            "12\n",
            "13\n",
            "14\n",
            "So dao nguoc la:  321\n"
          ]
        }
      ]
    },
    {
      "cell_type": "markdown",
      "source": [
        "## Functions"
      ],
      "metadata": {
        "id": "dU_xgbGMWG17"
      }
    },
    {
      "cell_type": "markdown",
      "source": [
        "### Function Def"
      ],
      "metadata": {
        "id": "rezYtsGKWJeW"
      }
    },
    {
      "cell_type": "code",
      "source": [
        "def getfv(pv, r, n):\n",
        "  fv = pv * ((1 + (r)) ** n)\n",
        "  return fv\n",
        "fv = getfv(100, 0.1, 7)\n",
        "print(round(fv, 2))\n",
        "\n",
        "def tinh_tong(n):\n",
        "  sum=0\n",
        "  for i in range(1,n+1):\n",
        "      sum += i\n",
        "  return sum\n",
        "n =10\n",
        "print(\"Tong =\",tinh_tong(10))"
      ],
      "metadata": {
        "colab": {
          "base_uri": "https://localhost:8080/"
        },
        "id": "3dfXxixLWLd7",
        "outputId": "20c9af9e-d95c-4f97-b7f1-bbacbdbd6b4f"
      },
      "execution_count": 43,
      "outputs": [
        {
          "output_type": "stream",
          "name": "stdout",
          "text": [
            "194.87\n",
            "Tong = 55\n"
          ]
        }
      ]
    },
    {
      "cell_type": "markdown",
      "source": [
        "## Classes / Objects"
      ],
      "metadata": {
        "id": "5YDtgCVoXLGs"
      }
    },
    {
      "cell_type": "code",
      "source": [
        "class MyClass:\n",
        "  x = 5\n",
        "\n",
        "c1 = MyClass()\n",
        "print(c1.x)"
      ],
      "metadata": {
        "colab": {
          "base_uri": "https://localhost:8080/"
        },
        "id": "uZZPQZQsXbd3",
        "outputId": "76b11f8e-138a-4f60-b003-7eaa4afeffe2"
      },
      "execution_count": 45,
      "outputs": [
        {
          "output_type": "stream",
          "name": "stdout",
          "text": [
            "5\n"
          ]
        }
      ]
    },
    {
      "cell_type": "code",
      "source": [
        "class Person:\n",
        "  def __init__(self, name, age,location):\n",
        "    self.name = name\n",
        "    self.age = age\n",
        "    self.location = location\n",
        "\n",
        "  def myfunc(self):\n",
        "    print(\"My location is \" + self.location)\n",
        "\n",
        "p1 = Person(\"Alan\", 20,'Ho Chi Minh City')\n",
        "p1.myfunc()\n",
        "print(p1.name)\n",
        "print(p1.age)"
      ],
      "metadata": {
        "colab": {
          "base_uri": "https://localhost:8080/"
        },
        "id": "o05hOUUzXukl",
        "outputId": "21fd1fc2-1fdc-4ba4-fe0c-3fa0187359b9"
      },
      "execution_count": 47,
      "outputs": [
        {
          "output_type": "stream",
          "name": "stdout",
          "text": [
            "My location is Ho Chi Minh City\n",
            "Alan\n",
            "20\n"
          ]
        }
      ]
    },
    {
      "cell_type": "code",
      "source": [
        "class Vehicle:\n",
        "  name = \"\"\n",
        "  kind = \"car\"\n",
        "  color = \"\"\n",
        "  value = 100.00\n",
        "  def description(self):\n",
        "    desc_str = \"%s is a %s %s worth $%.2f.\" % (self.name, self.color,\n",
        "    self.kind, self.value)\n",
        "    return desc_str\n",
        "\n",
        "car1 = Vehicle()\n",
        "car1.name = \"Fer\"\n",
        "car1.color = \"red\"\n",
        "car1.kind = \"convertible\"\n",
        "car1.value = 60000.00\n",
        "\n",
        "car2 = Vehicle()\n",
        "car2.name = \"Jump\"\n",
        "car2.color = \"blue\"\n",
        "car2.kind = \"van\"\n",
        "car2.value = 10000.00\n",
        "\n",
        "print(car1.description())\n",
        "print(car1.name,\"-\",car1.color)\n",
        "print(car2.description())\n",
        "print(car2.name,\"-\",car1.color)"
      ],
      "metadata": {
        "colab": {
          "base_uri": "https://localhost:8080/"
        },
        "id": "gTyYh10NYZ-M",
        "outputId": "9b657401-f0a4-447b-bfc6-dd6e58df82d5"
      },
      "execution_count": 52,
      "outputs": [
        {
          "output_type": "stream",
          "name": "stdout",
          "text": [
            "Fer is a red convertible worth $60000.00.\n",
            "Fer - red\n",
            "Jump is a blue van worth $10000.00.\n",
            "Jump - red\n"
          ]
        }
      ]
    },
    {
      "cell_type": "markdown",
      "source": [
        "### main() function"
      ],
      "metadata": {
        "id": "ET6VfiXaaf8h"
      }
    },
    {
      "cell_type": "code",
      "source": [
        "def main():\n",
        "  print(\"Hello World!\")\n",
        "if __name__ == \"__main__\":\n",
        "  main()"
      ],
      "metadata": {
        "colab": {
          "base_uri": "https://localhost:8080/"
        },
        "id": "nvmRI4RMafjC",
        "outputId": "eb5a6dbf-0024-4413-a657-5636dd146baf"
      },
      "execution_count": 58,
      "outputs": [
        {
          "output_type": "stream",
          "name": "stdout",
          "text": [
            "Hello World!\n"
          ]
        }
      ]
    },
    {
      "cell_type": "markdown",
      "source": [
        "## Modules"
      ],
      "metadata": {
        "id": "QdIR-PC0b9IK"
      }
    },
    {
      "cell_type": "markdown",
      "source": [
        "## File Input/Output"
      ],
      "metadata": {
        "id": "qFBppRAIZtJu"
      }
    },
    {
      "cell_type": "code",
      "source": [
        "def greeting(name):\n",
        "  print(\"Hello, \" + name)\n",
        "import mymodule\n",
        "mymodule.greeting(\"Alan\")"
      ],
      "metadata": {
        "colab": {
          "base_uri": "https://localhost:8080/"
        },
        "id": "WtFxI8WgcEUW",
        "outputId": "d8c3c27c-a930-45cb-ed3e-9fc4ecc5db77"
      },
      "execution_count": 62,
      "outputs": [
        {
          "output_type": "stream",
          "name": "stdout",
          "text": [
            "Hello, Alan\n"
          ]
        }
      ]
    },
    {
      "cell_type": "code",
      "source": [
        "with open('myfile.txt', 'w') as file:\n",
        "  file.write('Hello World\\nThis is Python File Input Output')\n",
        "with open('myfile.txt', 'r') as file:\n",
        "  text = file.read()\n",
        "  print(text)"
      ],
      "metadata": {
        "colab": {
          "base_uri": "https://localhost:8080/"
        },
        "id": "YsLKHfZqZxa9",
        "outputId": "8b48a975-71be-441b-c241-4fa76199e19f"
      },
      "execution_count": 54,
      "outputs": [
        {
          "output_type": "stream",
          "name": "stdout",
          "text": [
            "Hello World\n",
            "This is Python File Input Output\n"
          ]
        }
      ]
    },
    {
      "cell_type": "code",
      "source": [
        "filename = 'mymodule.py'\n",
        "with open(filename, 'w') as file:\n",
        "  text = '''def greeting(name):\n",
        "  print(\"Hello, \" + name)\n",
        "  '''\n",
        "  file.write(text)\n",
        "with open(filename, 'r') as file:\n",
        "  text = file.read()\n",
        "  print(filename)\n",
        "  print(text)"
      ],
      "metadata": {
        "colab": {
          "base_uri": "https://localhost:8080/"
        },
        "id": "g2YUbdHPaNPA",
        "outputId": "626f41bb-7f39-4b8e-fe30-1349628366e9"
      },
      "execution_count": 55,
      "outputs": [
        {
          "output_type": "stream",
          "name": "stdout",
          "text": [
            "mymodule.py\n",
            "def greeting(name):\n",
            "  print(\"Hello, \" + name)\n",
            "  \n"
          ]
        }
      ]
    },
    {
      "cell_type": "markdown",
      "source": [
        "### File Handling"
      ],
      "metadata": {
        "id": "ALEILYDybGjO"
      }
    },
    {
      "cell_type": "code",
      "source": [
        "f = open(\"myfile.txt\", \"w\")\n",
        "f.write(\"Hello World\")\n",
        "f.close()\n",
        "f = open(\"myfile.txt\", \"r\")\n",
        "text = f.read()\n",
        "print(text)\n",
        "f.close()"
      ],
      "metadata": {
        "colab": {
          "base_uri": "https://localhost:8080/"
        },
        "id": "1FY4DMHPbKN3",
        "outputId": "eb63a582-c4c1-4b06-eed0-8b898eba3db1"
      },
      "execution_count": 59,
      "outputs": [
        {
          "output_type": "stream",
          "name": "stdout",
          "text": [
            "Hello World\n"
          ]
        }
      ]
    },
    {
      "cell_type": "code",
      "source": [
        "with open('myfile.txt', 'w') as file:\n",
        "  file.write('Hello World')\n",
        "with open('myfile.txt', 'r') as file:\n",
        "  text = file.read()\n",
        "print(text)"
      ],
      "metadata": {
        "colab": {
          "base_uri": "https://localhost:8080/"
        },
        "id": "6oLm4C--bPG3",
        "outputId": "e6cf69a5-4fcb-4ba1-d931-1bd560d14f3b"
      },
      "execution_count": 60,
      "outputs": [
        {
          "output_type": "stream",
          "name": "stdout",
          "text": [
            "Hello World\n"
          ]
        }
      ]
    },
    {
      "cell_type": "code",
      "source": [
        "with open('myfile.txt', 'a+') as file:\n",
        "  file.write('\\n' + 'New line')\n",
        "with open('myfile.txt', 'r') as file:\n",
        "  text = file.read()\n",
        "print(text)"
      ],
      "metadata": {
        "colab": {
          "base_uri": "https://localhost:8080/"
        },
        "id": "3tcr2Lqabfes",
        "outputId": "4a2f6d3c-8b0a-4484-8b3c-d24795a0c8fa"
      },
      "execution_count": 61,
      "outputs": [
        {
          "output_type": "stream",
          "name": "stdout",
          "text": [
            "Hello World\n",
            "New line\n"
          ]
        }
      ]
    },
    {
      "cell_type": "markdown",
      "source": [
        "### OS, IO, files, and Google Drive"
      ],
      "metadata": {
        "id": "ZJaNjh9KcM-q"
      }
    },
    {
      "cell_type": "code",
      "source": [
        "# !ls list files\n",
        "!ls"
      ],
      "metadata": {
        "colab": {
          "base_uri": "https://localhost:8080/"
        },
        "id": "1wLCcen_cPLM",
        "outputId": "71e08f53-d7b6-4aa7-8fa8-ab533aeccb3a"
      },
      "execution_count": 63,
      "outputs": [
        {
          "output_type": "stream",
          "name": "stdout",
          "text": [
            "myfile.txt  mymodule.py  __pycache__  sample_data\n"
          ]
        }
      ]
    },
    {
      "cell_type": "code",
      "source": [
        "import os\n",
        "cwd = os.getcwd()\n",
        "print(cwd)"
      ],
      "metadata": {
        "colab": {
          "base_uri": "https://localhost:8080/"
        },
        "id": "xRr6ujtncUQr",
        "outputId": "05258e2c-d69a-4065-ae93-9e0ef9011c3e"
      },
      "execution_count": 64,
      "outputs": [
        {
          "output_type": "stream",
          "name": "stdout",
          "text": [
            "/content\n"
          ]
        }
      ]
    },
    {
      "cell_type": "code",
      "source": [
        "os.listdir(cwd)"
      ],
      "metadata": {
        "colab": {
          "base_uri": "https://localhost:8080/"
        },
        "id": "CfUGj9ezcXDi",
        "outputId": "b6683fa2-e5c6-4fb9-e77b-9b3f085cf59c"
      },
      "execution_count": 65,
      "outputs": [
        {
          "output_type": "execute_result",
          "data": {
            "text/plain": [
              "['.config', 'myfile.txt', 'mymodule.py', '__pycache__', 'sample_data']"
            ]
          },
          "metadata": {},
          "execution_count": 65
        }
      ]
    },
    {
      "cell_type": "code",
      "source": [
        "path = os.path.join(cwd,\n",
        "\n",
        "'sample_data')\n",
        "\n",
        "print(path)\n",
        "os.listdir(path)"
      ],
      "metadata": {
        "colab": {
          "base_uri": "https://localhost:8080/"
        },
        "id": "iZypcf4tcZYy",
        "outputId": "f114bbdd-a534-4e51-87d2-f76d2926ad7f"
      },
      "execution_count": 66,
      "outputs": [
        {
          "output_type": "stream",
          "name": "stdout",
          "text": [
            "/content/sample_data\n"
          ]
        },
        {
          "output_type": "execute_result",
          "data": {
            "text/plain": [
              "['anscombe.json',\n",
              " 'README.md',\n",
              " 'mnist_test.csv',\n",
              " 'mnist_train_small.csv',\n",
              " 'california_housing_train.csv',\n",
              " 'california_housing_test.csv']"
            ]
          },
          "metadata": {},
          "execution_count": 66
        }
      ]
    },
    {
      "cell_type": "code",
      "source": [
        "# download file\n",
        "from google.colab import files\n",
        "\n",
        "with open('my_message.txt', 'w') as f:\n",
        "  f.write('I love you so much')\n",
        "import time\n",
        "time.sleep(1) # time sleep 1 second\n",
        "\n",
        "files.download('my_message.txt')\n",
        "print('downloaded')\n",
        "\n",
        "with open('my_letter.txt','w') as f:\n",
        "  f.write('Today is my bad day')\n",
        "import time\n",
        "time.sleep(2)\n",
        "files.download('my_letter.txt')"
      ],
      "metadata": {
        "colab": {
          "base_uri": "https://localhost:8080/",
          "height": 34
        },
        "id": "u_Q0PN_McfMO",
        "outputId": "c856a9be-1a7a-43c8-cf55-b763c401b252"
      },
      "execution_count": 73,
      "outputs": [
        {
          "output_type": "display_data",
          "data": {
            "text/plain": [
              "<IPython.core.display.Javascript object>"
            ],
            "application/javascript": [
              "\n",
              "    async function download(id, filename, size) {\n",
              "      if (!google.colab.kernel.accessAllowed) {\n",
              "        return;\n",
              "      }\n",
              "      const div = document.createElement('div');\n",
              "      const label = document.createElement('label');\n",
              "      label.textContent = `Downloading \"${filename}\": `;\n",
              "      div.appendChild(label);\n",
              "      const progress = document.createElement('progress');\n",
              "      progress.max = size;\n",
              "      div.appendChild(progress);\n",
              "      document.body.appendChild(div);\n",
              "\n",
              "      const buffers = [];\n",
              "      let downloaded = 0;\n",
              "\n",
              "      const channel = await google.colab.kernel.comms.open(id);\n",
              "      // Send a message to notify the kernel that we're ready.\n",
              "      channel.send({})\n",
              "\n",
              "      for await (const message of channel.messages) {\n",
              "        // Send a message to notify the kernel that we're ready.\n",
              "        channel.send({})\n",
              "        if (message.buffers) {\n",
              "          for (const buffer of message.buffers) {\n",
              "            buffers.push(buffer);\n",
              "            downloaded += buffer.byteLength;\n",
              "            progress.value = downloaded;\n",
              "          }\n",
              "        }\n",
              "      }\n",
              "      const blob = new Blob(buffers, {type: 'application/binary'});\n",
              "      const a = document.createElement('a');\n",
              "      a.href = window.URL.createObjectURL(blob);\n",
              "      a.download = filename;\n",
              "      div.appendChild(a);\n",
              "      a.click();\n",
              "      div.remove();\n",
              "    }\n",
              "  "
            ]
          },
          "metadata": {}
        },
        {
          "output_type": "display_data",
          "data": {
            "text/plain": [
              "<IPython.core.display.Javascript object>"
            ],
            "application/javascript": [
              "download(\"download_f21345c8-1080-455a-ad97-fce0b2f745af\", \"my_message.txt\", 18)"
            ]
          },
          "metadata": {}
        },
        {
          "output_type": "stream",
          "name": "stdout",
          "text": [
            "downloaded\n"
          ]
        },
        {
          "output_type": "display_data",
          "data": {
            "text/plain": [
              "<IPython.core.display.Javascript object>"
            ],
            "application/javascript": [
              "\n",
              "    async function download(id, filename, size) {\n",
              "      if (!google.colab.kernel.accessAllowed) {\n",
              "        return;\n",
              "      }\n",
              "      const div = document.createElement('div');\n",
              "      const label = document.createElement('label');\n",
              "      label.textContent = `Downloading \"${filename}\": `;\n",
              "      div.appendChild(label);\n",
              "      const progress = document.createElement('progress');\n",
              "      progress.max = size;\n",
              "      div.appendChild(progress);\n",
              "      document.body.appendChild(div);\n",
              "\n",
              "      const buffers = [];\n",
              "      let downloaded = 0;\n",
              "\n",
              "      const channel = await google.colab.kernel.comms.open(id);\n",
              "      // Send a message to notify the kernel that we're ready.\n",
              "      channel.send({})\n",
              "\n",
              "      for await (const message of channel.messages) {\n",
              "        // Send a message to notify the kernel that we're ready.\n",
              "        channel.send({})\n",
              "        if (message.buffers) {\n",
              "          for (const buffer of message.buffers) {\n",
              "            buffers.push(buffer);\n",
              "            downloaded += buffer.byteLength;\n",
              "            progress.value = downloaded;\n",
              "          }\n",
              "        }\n",
              "      }\n",
              "      const blob = new Blob(buffers, {type: 'application/binary'});\n",
              "      const a = document.createElement('a');\n",
              "      a.href = window.URL.createObjectURL(blob);\n",
              "      a.download = filename;\n",
              "      div.appendChild(a);\n",
              "      a.click();\n",
              "      div.remove();\n",
              "    }\n",
              "  "
            ]
          },
          "metadata": {}
        },
        {
          "output_type": "display_data",
          "data": {
            "text/plain": [
              "<IPython.core.display.Javascript object>"
            ],
            "application/javascript": [
              "download(\"download_7fd36d18-d48b-4e95-9dbc-9be423ed5f1a\", \"my_letter.txt\", 19)"
            ]
          },
          "metadata": {}
        }
      ]
    },
    {
      "cell_type": "code",
      "source": [
        "# Upload file from computer or laptop\n",
        "from google.colab import files\n",
        "uploaded = files.upload()\n",
        "for fn in uploaded.keys():\n",
        "  print('User uploaded file \"{name}\" with length {length} bytes'.format(name=fn, length=len(uploaded[fn])))"
      ],
      "metadata": {
        "colab": {
          "base_uri": "https://localhost:8080/",
          "height": 90
        },
        "id": "1u7mLyludnoi",
        "outputId": "c4f527cd-eb1a-434c-bf57-97d24385366a"
      },
      "execution_count": 74,
      "outputs": [
        {
          "output_type": "display_data",
          "data": {
            "text/plain": [
              "<IPython.core.display.HTML object>"
            ],
            "text/html": [
              "\n",
              "     <input type=\"file\" id=\"files-3820b76b-e33c-4a58-8c1f-a6dfe90983dd\" name=\"files[]\" multiple disabled\n",
              "        style=\"border:none\" />\n",
              "     <output id=\"result-3820b76b-e33c-4a58-8c1f-a6dfe90983dd\">\n",
              "      Upload widget is only available when the cell has been executed in the\n",
              "      current browser session. Please rerun this cell to enable.\n",
              "      </output>\n",
              "      <script>// Copyright 2017 Google LLC\n",
              "//\n",
              "// Licensed under the Apache License, Version 2.0 (the \"License\");\n",
              "// you may not use this file except in compliance with the License.\n",
              "// You may obtain a copy of the License at\n",
              "//\n",
              "//      http://www.apache.org/licenses/LICENSE-2.0\n",
              "//\n",
              "// Unless required by applicable law or agreed to in writing, software\n",
              "// distributed under the License is distributed on an \"AS IS\" BASIS,\n",
              "// WITHOUT WARRANTIES OR CONDITIONS OF ANY KIND, either express or implied.\n",
              "// See the License for the specific language governing permissions and\n",
              "// limitations under the License.\n",
              "\n",
              "/**\n",
              " * @fileoverview Helpers for google.colab Python module.\n",
              " */\n",
              "(function(scope) {\n",
              "function span(text, styleAttributes = {}) {\n",
              "  const element = document.createElement('span');\n",
              "  element.textContent = text;\n",
              "  for (const key of Object.keys(styleAttributes)) {\n",
              "    element.style[key] = styleAttributes[key];\n",
              "  }\n",
              "  return element;\n",
              "}\n",
              "\n",
              "// Max number of bytes which will be uploaded at a time.\n",
              "const MAX_PAYLOAD_SIZE = 100 * 1024;\n",
              "\n",
              "function _uploadFiles(inputId, outputId) {\n",
              "  const steps = uploadFilesStep(inputId, outputId);\n",
              "  const outputElement = document.getElementById(outputId);\n",
              "  // Cache steps on the outputElement to make it available for the next call\n",
              "  // to uploadFilesContinue from Python.\n",
              "  outputElement.steps = steps;\n",
              "\n",
              "  return _uploadFilesContinue(outputId);\n",
              "}\n",
              "\n",
              "// This is roughly an async generator (not supported in the browser yet),\n",
              "// where there are multiple asynchronous steps and the Python side is going\n",
              "// to poll for completion of each step.\n",
              "// This uses a Promise to block the python side on completion of each step,\n",
              "// then passes the result of the previous step as the input to the next step.\n",
              "function _uploadFilesContinue(outputId) {\n",
              "  const outputElement = document.getElementById(outputId);\n",
              "  const steps = outputElement.steps;\n",
              "\n",
              "  const next = steps.next(outputElement.lastPromiseValue);\n",
              "  return Promise.resolve(next.value.promise).then((value) => {\n",
              "    // Cache the last promise value to make it available to the next\n",
              "    // step of the generator.\n",
              "    outputElement.lastPromiseValue = value;\n",
              "    return next.value.response;\n",
              "  });\n",
              "}\n",
              "\n",
              "/**\n",
              " * Generator function which is called between each async step of the upload\n",
              " * process.\n",
              " * @param {string} inputId Element ID of the input file picker element.\n",
              " * @param {string} outputId Element ID of the output display.\n",
              " * @return {!Iterable<!Object>} Iterable of next steps.\n",
              " */\n",
              "function* uploadFilesStep(inputId, outputId) {\n",
              "  const inputElement = document.getElementById(inputId);\n",
              "  inputElement.disabled = false;\n",
              "\n",
              "  const outputElement = document.getElementById(outputId);\n",
              "  outputElement.innerHTML = '';\n",
              "\n",
              "  const pickedPromise = new Promise((resolve) => {\n",
              "    inputElement.addEventListener('change', (e) => {\n",
              "      resolve(e.target.files);\n",
              "    });\n",
              "  });\n",
              "\n",
              "  const cancel = document.createElement('button');\n",
              "  inputElement.parentElement.appendChild(cancel);\n",
              "  cancel.textContent = 'Cancel upload';\n",
              "  const cancelPromise = new Promise((resolve) => {\n",
              "    cancel.onclick = () => {\n",
              "      resolve(null);\n",
              "    };\n",
              "  });\n",
              "\n",
              "  // Wait for the user to pick the files.\n",
              "  const files = yield {\n",
              "    promise: Promise.race([pickedPromise, cancelPromise]),\n",
              "    response: {\n",
              "      action: 'starting',\n",
              "    }\n",
              "  };\n",
              "\n",
              "  cancel.remove();\n",
              "\n",
              "  // Disable the input element since further picks are not allowed.\n",
              "  inputElement.disabled = true;\n",
              "\n",
              "  if (!files) {\n",
              "    return {\n",
              "      response: {\n",
              "        action: 'complete',\n",
              "      }\n",
              "    };\n",
              "  }\n",
              "\n",
              "  for (const file of files) {\n",
              "    const li = document.createElement('li');\n",
              "    li.append(span(file.name, {fontWeight: 'bold'}));\n",
              "    li.append(span(\n",
              "        `(${file.type || 'n/a'}) - ${file.size} bytes, ` +\n",
              "        `last modified: ${\n",
              "            file.lastModifiedDate ? file.lastModifiedDate.toLocaleDateString() :\n",
              "                                    'n/a'} - `));\n",
              "    const percent = span('0% done');\n",
              "    li.appendChild(percent);\n",
              "\n",
              "    outputElement.appendChild(li);\n",
              "\n",
              "    const fileDataPromise = new Promise((resolve) => {\n",
              "      const reader = new FileReader();\n",
              "      reader.onload = (e) => {\n",
              "        resolve(e.target.result);\n",
              "      };\n",
              "      reader.readAsArrayBuffer(file);\n",
              "    });\n",
              "    // Wait for the data to be ready.\n",
              "    let fileData = yield {\n",
              "      promise: fileDataPromise,\n",
              "      response: {\n",
              "        action: 'continue',\n",
              "      }\n",
              "    };\n",
              "\n",
              "    // Use a chunked sending to avoid message size limits. See b/62115660.\n",
              "    let position = 0;\n",
              "    do {\n",
              "      const length = Math.min(fileData.byteLength - position, MAX_PAYLOAD_SIZE);\n",
              "      const chunk = new Uint8Array(fileData, position, length);\n",
              "      position += length;\n",
              "\n",
              "      const base64 = btoa(String.fromCharCode.apply(null, chunk));\n",
              "      yield {\n",
              "        response: {\n",
              "          action: 'append',\n",
              "          file: file.name,\n",
              "          data: base64,\n",
              "        },\n",
              "      };\n",
              "\n",
              "      let percentDone = fileData.byteLength === 0 ?\n",
              "          100 :\n",
              "          Math.round((position / fileData.byteLength) * 100);\n",
              "      percent.textContent = `${percentDone}% done`;\n",
              "\n",
              "    } while (position < fileData.byteLength);\n",
              "  }\n",
              "\n",
              "  // All done.\n",
              "  yield {\n",
              "    response: {\n",
              "      action: 'complete',\n",
              "    }\n",
              "  };\n",
              "}\n",
              "\n",
              "scope.google = scope.google || {};\n",
              "scope.google.colab = scope.google.colab || {};\n",
              "scope.google.colab._files = {\n",
              "  _uploadFiles,\n",
              "  _uploadFilesContinue,\n",
              "};\n",
              "})(self);\n",
              "</script> "
            ]
          },
          "metadata": {}
        },
        {
          "output_type": "stream",
          "name": "stdout",
          "text": [
            "Saving 1.pdf to 1.pdf\n",
            "User uploaded file \"1.pdf\" with length 2338253 bytes\n"
          ]
        }
      ]
    },
    {
      "cell_type": "code",
      "source": [
        "# remove file\n",
        "import os\n",
        "if os.path.exists(\"myfile.txt\"):\n",
        "  os.remove(\"myfile.txt\")\n",
        "  print(\"myfile.txt removed\")\n",
        "else:\n",
        "  print(\"The file does not exist\")"
      ],
      "metadata": {
        "colab": {
          "base_uri": "https://localhost:8080/"
        },
        "id": "-0TX74wKeL15",
        "outputId": "e9372836-575f-4d76-9c98-68ea64586030"
      },
      "execution_count": 75,
      "outputs": [
        {
          "output_type": "stream",
          "name": "stdout",
          "text": [
            "myfile.txt removed\n"
          ]
        }
      ]
    },
    {
      "cell_type": "code",
      "source": [
        "import os\n",
        "os.listdir()\n",
        "os.mkdir(\"myfolder1\")\n",
        "os.listdir()\n",
        "os.rmdir(\"myfolder1\")\n",
        "os.listdir()"
      ],
      "metadata": {
        "colab": {
          "base_uri": "https://localhost:8080/"
        },
        "id": "y6tvaCVReTEq",
        "outputId": "f1464234-c350-443b-f37b-718de840b4cf"
      },
      "execution_count": 76,
      "outputs": [
        {
          "output_type": "execute_result",
          "data": {
            "text/plain": [
              "['.config',\n",
              " 'io_file_myday.txt',\n",
              " 'my_letter.txt',\n",
              " 'mymodule.py',\n",
              " '1.pdf',\n",
              " 'my_letter.text',\n",
              " '__pycache__',\n",
              " 'my_message.txt',\n",
              " 'sample_data']"
            ]
          },
          "metadata": {},
          "execution_count": 76
        }
      ]
    },
    {
      "cell_type": "markdown",
      "source": [
        "## Try Except"
      ],
      "metadata": {
        "id": "xtayeHTzfWSm"
      }
    },
    {
      "cell_type": "markdown",
      "source": [
        "### try: except: finally:"
      ],
      "metadata": {
        "id": "BvTZ1sMwecRr"
      }
    },
    {
      "cell_type": "code",
      "source": [
        "try:\n",
        "  print(\"Hello\")\n",
        "except:\n",
        "  print(\"Exception Error\")\n",
        "finally:\n",
        "  print(\"Finally process\")"
      ],
      "metadata": {
        "colab": {
          "base_uri": "https://localhost:8080/"
        },
        "id": "wwWxalimedaj",
        "outputId": "faae731c-8630-49a9-cf4f-426494fddac5"
      },
      "execution_count": 77,
      "outputs": [
        {
          "output_type": "stream",
          "name": "stdout",
          "text": [
            "Hello\n",
            "Finally process\n"
          ]
        }
      ]
    },
    {
      "cell_type": "markdown",
      "source": [
        "### try: except: else:"
      ],
      "metadata": {
        "id": "vSksMBNGehRe"
      }
    },
    {
      "cell_type": "code",
      "source": [
        "try:\n",
        "  print(\"Hello\")\n",
        "except:\n",
        "  print(\"Exception Error\")\n",
        "else:\n",
        "  print(\"No exception\")"
      ],
      "metadata": {
        "colab": {
          "base_uri": "https://localhost:8080/"
        },
        "id": "VrTpQQeieirY",
        "outputId": "a3c8f222-48c2-41cb-ada8-3c69879a5adb"
      },
      "execution_count": 78,
      "outputs": [
        {
          "output_type": "stream",
          "name": "stdout",
          "text": [
            "Hello\n",
            "No exception\n"
          ]
        }
      ]
    },
    {
      "cell_type": "markdown",
      "source": [
        "### try: except: else: finally:"
      ],
      "metadata": {
        "id": "LR4ami-reoEG"
      }
    },
    {
      "cell_type": "code",
      "source": [
        "try:\n",
        "  print(\"Hello\")\n",
        "except:\n",
        "  print(\"Exception Error\")\n",
        "else:\n",
        "  print(\"No exception\")\n",
        "finally:\n",
        "  print(\"Finally process\")"
      ],
      "metadata": {
        "colab": {
          "base_uri": "https://localhost:8080/"
        },
        "id": "8wJQQA_heo19",
        "outputId": "121ce838-d864-4172-ba17-a97e7199b7b9"
      },
      "execution_count": 79,
      "outputs": [
        {
          "output_type": "stream",
          "name": "stdout",
          "text": [
            "Hello\n",
            "No exception\n",
            "Finally process\n"
          ]
        }
      ]
    },
    {
      "cell_type": "code",
      "source": [
        "try:\n",
        "  price = float(input(\"Enter the price of the stock (e.g. 10):\"))\n",
        "  shares = int(input(\"Enter the number of shares (e.g. 2):\"))\n",
        "  total = price * shares\n",
        "except Exception as e:\n",
        "  print(\"Exception error:\", str(e))\n",
        "else:\n",
        "  print(\"The total value of the shares is:\", total)\n",
        "finally:\n",
        "  print(\"Thank you.\")"
      ],
      "metadata": {
        "colab": {
          "base_uri": "https://localhost:8080/"
        },
        "id": "4Z74RsY7ewrs",
        "outputId": "d02a0265-741c-4b49-f809-39a9baa07a77"
      },
      "execution_count": 80,
      "outputs": [
        {
          "output_type": "stream",
          "name": "stdout",
          "text": [
            "Enter the price of the stock (e.g. 10):2\n",
            "Enter the number of shares (e.g. 2):3\n",
            "The total value of the shares is: 6.0\n",
            "Thank you.\n"
          ]
        }
      ]
    },
    {
      "cell_type": "code",
      "source": [
        "try:\n",
        "  file = open(\"myfile.txt\")\n",
        "  file.write(\"Python write file\")\n",
        "  print(\"file saved\")\n",
        "except:\n",
        "  print(\"Exception file Error\")\n",
        "finally:\n",
        "  file.close()\n",
        "  print(\"Finally process\")"
      ],
      "metadata": {
        "colab": {
          "base_uri": "https://localhost:8080/"
        },
        "id": "6e8KhlQWe7G5",
        "outputId": "9b7b42e2-acbc-4f82-e40e-c657815708b5"
      },
      "execution_count": 82,
      "outputs": [
        {
          "output_type": "stream",
          "name": "stdout",
          "text": [
            "Exception file Error\n",
            "Finally process\n"
          ]
        }
      ]
    },
    {
      "cell_type": "code",
      "source": [
        "try:\n",
        "  file = open(\"myfile.txt\", 'w')\n",
        "  file.write(\"Python write file\")\n",
        "  print(\"file saved\")\n",
        "except:\n",
        "  print(\"Exception file Error\")\n",
        "finally:\n",
        "  file.close()\n",
        "  print(\"Finally process\")"
      ],
      "metadata": {
        "colab": {
          "base_uri": "https://localhost:8080/"
        },
        "id": "5Js_VRa9fHJb",
        "outputId": "efec2e01-5ade-4c82-efc9-efba39caf17d"
      },
      "execution_count": 84,
      "outputs": [
        {
          "output_type": "stream",
          "name": "stdout",
          "text": [
            "file saved\n",
            "Finally process\n"
          ]
        }
      ]
    }
  ]
}